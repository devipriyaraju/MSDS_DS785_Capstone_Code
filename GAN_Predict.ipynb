{
 "cells": [
  {
   "cell_type": "code",
   "execution_count": 1,
   "metadata": {},
   "outputs": [
    {
     "name": "stderr",
     "output_type": "stream",
     "text": [
      "Using TensorFlow backend.\n"
     ]
    }
   ],
   "source": [
    "import os\n",
    "import matplotlib.pyplot as plt\n",
    "import numpy as np\n",
    "\n",
    "from music21 import midi\n",
    "from music21 import note, stream, duration\n",
    "from music21 import converter\n",
    "\n",
    "from models.GAN import MuseGAN\n",
    "\n",
    "from utils.loaders import load_music\n",
    "\n",
    "from keras.models import load_model"
   ]
  },
  {
   "cell_type": "code",
   "execution_count": 2,
   "metadata": {},
   "outputs": [],
   "source": [
    "parent_folder = 'New_Music'    #Set up the data folders\n",
    "run_num = '0001'\n",
    "track_name1 = 'chorales'\n",
    "file_name = 'Jsb16thSeparated.npz'\n",
    "folder_in = 'run/{}/'.format(parent_folder)\n",
    "folder_in += '_'.join([run_num, track_name1])\n"
   ]
  },
  {
   "cell_type": "markdown",
   "metadata": {},
   "source": [
    "## Parameters Initialized"
   ]
  },
  {
   "cell_type": "code",
   "execution_count": 3,
   "metadata": {},
   "outputs": [],
   "source": [
    "batch_in = 64\n",
    "bars_num = 2\n",
    "time_steps_per_bar = 16\n",
    "n_notes = 84\n",
    "num_of_tracks = 4\n",
    "\n",
    "binary_data, data_code, raw = load_music(track_name1, file_name, bars_num, time_steps_per_bar)\n",
    "# data_binary = np.squeeze(data_binary)"
   ]
  },
  {
   "cell_type": "code",
   "execution_count": 4,
   "metadata": {},
   "outputs": [
    {
     "name": "stderr",
     "output_type": "stream",
     "text": [
      "WARNING: Logging before flag parsing goes to stderr.\n",
      "W0505 21:20:20.393235 13108 deprecation_wrapper.py:119] From C:\\Users\\Arjun\\anaconda3\\envs\\generative\\lib\\site-packages\\keras\\backend\\tensorflow_backend.py:517: The name tf.placeholder is deprecated. Please use tf.compat.v1.placeholder instead.\n",
      "\n",
      "W0505 21:20:20.409224 13108 deprecation_wrapper.py:119] From C:\\Users\\Arjun\\anaconda3\\envs\\generative\\lib\\site-packages\\keras\\backend\\tensorflow_backend.py:74: The name tf.get_default_graph is deprecated. Please use tf.compat.v1.get_default_graph instead.\n",
      "\n",
      "W0505 21:20:20.410202 13108 deprecation_wrapper.py:119] From C:\\Users\\Arjun\\anaconda3\\envs\\generative\\lib\\site-packages\\keras\\backend\\tensorflow_backend.py:4115: The name tf.random_normal is deprecated. Please use tf.random.normal instead.\n",
      "\n",
      "W0505 21:20:20.596709 13108 deprecation_wrapper.py:119] From C:\\Users\\Arjun\\anaconda3\\envs\\generative\\lib\\site-packages\\keras\\backend\\tensorflow_backend.py:174: The name tf.get_default_session is deprecated. Please use tf.compat.v1.get_default_session instead.\n",
      "\n",
      "W0505 21:20:20.596709 13108 deprecation_wrapper.py:119] From C:\\Users\\Arjun\\anaconda3\\envs\\generative\\lib\\site-packages\\keras\\backend\\tensorflow_backend.py:181: The name tf.ConfigProto is deprecated. Please use tf.compat.v1.ConfigProto instead.\n",
      "\n",
      "W0505 21:20:20.683708 13108 deprecation_wrapper.py:119] From C:\\Users\\Arjun\\anaconda3\\envs\\generative\\lib\\site-packages\\keras\\backend\\tensorflow_backend.py:1834: The name tf.nn.fused_batch_norm is deprecated. Please use tf.compat.v1.nn.fused_batch_norm instead.\n",
      "\n",
      "W0505 21:20:30.319169 13108 deprecation_wrapper.py:119] From C:\\Users\\Arjun\\anaconda3\\envs\\generative\\lib\\site-packages\\keras\\optimizers.py:790: The name tf.train.Optimizer is deprecated. Please use tf.compat.v1.train.Optimizer instead.\n",
      "\n"
     ]
    }
   ],
   "source": [
    "gan_model = MuseGAN(input_dim = binary_data.shape[1:]\n",
    "        , critic_learning_rate = 0.001\n",
    "        , generator_learning_rate = 0.001\n",
    "        , optimiser = 'adam'\n",
    "        , grad_weight = 10\n",
    "        , z_dim = 32\n",
    "        , batch_size = batch_in\n",
    "        , n_tracks = num_of_tracks\n",
    "        , n_bars = bars_num\n",
    "        , n_steps_per_bar = time_steps_per_bar\n",
    "        , n_pitches = n_notes\n",
    "        )\n"
   ]
  },
  {
   "cell_type": "code",
   "execution_count": 5,
   "metadata": {},
   "outputs": [],
   "source": [
    "gan_model.load_weights(folder_in, None)"
   ]
  },
  {
   "cell_type": "code",
   "execution_count": 6,
   "metadata": {
    "scrolled": false
   },
   "outputs": [
    {
     "name": "stdout",
     "output_type": "stream",
     "text": [
      "__________________________________________________________________________________________________\n",
      "Layer (type)                    Output Shape         Param #     Connected to                     \n",
      "==================================================================================================\n",
      "melody_input (InputLayer)       (None, 4, 32)        0                                            \n",
      "__________________________________________________________________________________________________\n",
      "chords_input (InputLayer)       (None, 32)           0                                            \n",
      "__________________________________________________________________________________________________\n",
      "lambda_1 (Lambda)               (None, 32)           0           melody_input[0][0]               \n",
      "__________________________________________________________________________________________________\n",
      "lambda_2 (Lambda)               (None, 32)           0           melody_input[0][0]               \n",
      "__________________________________________________________________________________________________\n",
      "lambda_3 (Lambda)               (None, 32)           0           melody_input[0][0]               \n",
      "__________________________________________________________________________________________________\n",
      "lambda_4 (Lambda)               (None, 32)           0           melody_input[0][0]               \n",
      "__________________________________________________________________________________________________\n",
      "temporal_network (Model)        (None, 2, 32)        103584      chords_input[0][0]               \n",
      "__________________________________________________________________________________________________\n",
      "model_3 (Model)                 (None, 2, 32)        103584      lambda_1[0][0]                   \n",
      "__________________________________________________________________________________________________\n",
      "groove_input (InputLayer)       (None, 4, 32)        0                                            \n",
      "__________________________________________________________________________________________________\n",
      "model_4 (Model)                 (None, 2, 32)        103584      lambda_2[0][0]                   \n",
      "__________________________________________________________________________________________________\n",
      "model_5 (Model)                 (None, 2, 32)        103584      lambda_3[0][0]                   \n",
      "__________________________________________________________________________________________________\n",
      "model_6 (Model)                 (None, 2, 32)        103584      lambda_4[0][0]                   \n",
      "__________________________________________________________________________________________________\n",
      "chords_input_bar_0 (Lambda)     (None, 32)           0           temporal_network[1][0]           \n",
      "__________________________________________________________________________________________________\n",
      "style_input (InputLayer)        (None, 32)           0                                            \n",
      "__________________________________________________________________________________________________\n",
      "lambda_5 (Lambda)               (None, 32)           0           model_3[1][0]                    \n",
      "__________________________________________________________________________________________________\n",
      "lambda_6 (Lambda)               (None, 32)           0           groove_input[0][0]               \n",
      "__________________________________________________________________________________________________\n",
      "lambda_7 (Lambda)               (None, 32)           0           model_4[1][0]                    \n",
      "__________________________________________________________________________________________________\n",
      "lambda_8 (Lambda)               (None, 32)           0           groove_input[0][0]               \n",
      "__________________________________________________________________________________________________\n",
      "lambda_9 (Lambda)               (None, 32)           0           model_5[1][0]                    \n",
      "__________________________________________________________________________________________________\n",
      "lambda_10 (Lambda)              (None, 32)           0           groove_input[0][0]               \n",
      "__________________________________________________________________________________________________\n",
      "lambda_11 (Lambda)              (None, 32)           0           model_6[1][0]                    \n",
      "__________________________________________________________________________________________________\n",
      "lambda_12 (Lambda)              (None, 32)           0           groove_input[0][0]               \n",
      "__________________________________________________________________________________________________\n",
      "chords_input_bar_1 (Lambda)     (None, 32)           0           temporal_network[1][0]           \n",
      "__________________________________________________________________________________________________\n",
      "lambda_13 (Lambda)              (None, 32)           0           model_3[1][0]                    \n",
      "__________________________________________________________________________________________________\n",
      "lambda_14 (Lambda)              (None, 32)           0           groove_input[0][0]               \n",
      "__________________________________________________________________________________________________\n",
      "lambda_15 (Lambda)              (None, 32)           0           model_4[1][0]                    \n",
      "__________________________________________________________________________________________________\n",
      "lambda_16 (Lambda)              (None, 32)           0           groove_input[0][0]               \n",
      "__________________________________________________________________________________________________\n",
      "lambda_17 (Lambda)              (None, 32)           0           model_5[1][0]                    \n",
      "__________________________________________________________________________________________________\n",
      "lambda_18 (Lambda)              (None, 32)           0           groove_input[0][0]               \n",
      "__________________________________________________________________________________________________\n",
      "lambda_19 (Lambda)              (None, 32)           0           model_6[1][0]                    \n",
      "__________________________________________________________________________________________________\n",
      "lambda_20 (Lambda)              (None, 32)           0           groove_input[0][0]               \n",
      "__________________________________________________________________________________________________\n",
      "total_input_bar_0_track_0 (Conc (None, 128)          0           chords_input_bar_0[0][0]         \n",
      "                                                                 style_input[0][0]                \n",
      "                                                                 lambda_5[0][0]                   \n",
      "                                                                 lambda_6[0][0]                   \n",
      "__________________________________________________________________________________________________\n",
      "total_input_bar_0_track_1 (Conc (None, 128)          0           chords_input_bar_0[0][0]         \n",
      "                                                                 style_input[0][0]                \n",
      "                                                                 lambda_7[0][0]                   \n",
      "                                                                 lambda_8[0][0]                   \n",
      "__________________________________________________________________________________________________\n",
      "total_input_bar_0_track_2 (Conc (None, 128)          0           chords_input_bar_0[0][0]         \n",
      "                                                                 style_input[0][0]                \n",
      "                                                                 lambda_9[0][0]                   \n",
      "                                                                 lambda_10[0][0]                  \n",
      "__________________________________________________________________________________________________\n",
      "total_input_bar_0_track_3 (Conc (None, 128)          0           chords_input_bar_0[0][0]         \n",
      "                                                                 style_input[0][0]                \n",
      "                                                                 lambda_11[0][0]                  \n",
      "                                                                 lambda_12[0][0]                  \n",
      "__________________________________________________________________________________________________\n",
      "total_input_bar_1_track_0 (Conc (None, 128)          0           chords_input_bar_1[0][0]         \n",
      "                                                                 style_input[0][0]                \n",
      "                                                                 lambda_13[0][0]                  \n",
      "                                                                 lambda_14[0][0]                  \n",
      "__________________________________________________________________________________________________\n",
      "total_input_bar_1_track_1 (Conc (None, 128)          0           chords_input_bar_1[0][0]         \n",
      "                                                                 style_input[0][0]                \n",
      "                                                                 lambda_15[0][0]                  \n",
      "                                                                 lambda_16[0][0]                  \n",
      "__________________________________________________________________________________________________\n",
      "total_input_bar_1_track_2 (Conc (None, 128)          0           chords_input_bar_1[0][0]         \n",
      "                                                                 style_input[0][0]                \n",
      "                                                                 lambda_17[0][0]                  \n",
      "                                                                 lambda_18[0][0]                  \n",
      "__________________________________________________________________________________________________\n",
      "total_input_bar_1_track_3 (Conc (None, 128)          0           chords_input_bar_1[0][0]         \n",
      "                                                                 style_input[0][0]                \n",
      "                                                                 lambda_19[0][0]                  \n",
      "                                                                 lambda_20[0][0]                  \n",
      "__________________________________________________________________________________________________\n",
      "model_7 (Model)                 (None, 1, 16, 84, 1) 1521921     total_input_bar_0_track_0[0][0]  \n",
      "                                                                 total_input_bar_1_track_0[0][0]  \n",
      "__________________________________________________________________________________________________\n",
      "model_8 (Model)                 (None, 1, 16, 84, 1) 1521921     total_input_bar_0_track_1[0][0]  \n",
      "                                                                 total_input_bar_1_track_1[0][0]  \n",
      "__________________________________________________________________________________________________\n",
      "model_9 (Model)                 (None, 1, 16, 84, 1) 1521921     total_input_bar_0_track_2[0][0]  \n",
      "                                                                 total_input_bar_1_track_2[0][0]  \n",
      "__________________________________________________________________________________________________\n",
      "model_10 (Model)                (None, 1, 16, 84, 1) 1521921     total_input_bar_0_track_3[0][0]  \n",
      "                                                                 total_input_bar_1_track_3[0][0]  \n",
      "__________________________________________________________________________________________________\n",
      "concatenate_1 (Concatenate)     (None, 1, 16, 84, 4) 0           model_7[1][0]                    \n",
      "                                                                 model_8[1][0]                    \n",
      "                                                                 model_9[1][0]                    \n",
      "                                                                 model_10[1][0]                   \n",
      "__________________________________________________________________________________________________\n",
      "concatenate_2 (Concatenate)     (None, 1, 16, 84, 4) 0           model_7[2][0]                    \n",
      "                                                                 model_8[2][0]                    \n",
      "                                                                 model_9[2][0]                    \n",
      "                                                                 model_10[2][0]                   \n",
      "__________________________________________________________________________________________________\n",
      "concat_bars (Concatenate)       (None, 2, 16, 84, 4) 0           concatenate_1[0][0]              \n",
      "                                                                 concatenate_2[0][0]              \n",
      "==================================================================================================\n",
      "Total params: 6,605,604\n",
      "Trainable params: 6,576,612\n",
      "Non-trainable params: 28,992\n",
      "__________________________________________________________________________________________________\n"
     ]
    }
   ],
   "source": [
    "gan_model.generator.summary()"
   ]
  },
  {
   "cell_type": "code",
   "execution_count": 7,
   "metadata": {},
   "outputs": [
    {
     "name": "stdout",
     "output_type": "stream",
     "text": [
      "_________________________________________________________________\n",
      "Layer (type)                 Output Shape              Param #   \n",
      "=================================================================\n",
      "critic_input (InputLayer)    (None, 2, 16, 84, 4)      0         \n",
      "_________________________________________________________________\n",
      "conv3d_1 (Conv3D)            (None, 1, 16, 84, 128)    1152      \n",
      "_________________________________________________________________\n",
      "leaky_re_lu_1 (LeakyReLU)    (None, 1, 16, 84, 128)    0         \n",
      "_________________________________________________________________\n",
      "conv3d_2 (Conv3D)            (None, 1, 16, 84, 128)    16512     \n",
      "_________________________________________________________________\n",
      "leaky_re_lu_2 (LeakyReLU)    (None, 1, 16, 84, 128)    0         \n",
      "_________________________________________________________________\n",
      "conv3d_3 (Conv3D)            (None, 1, 16, 7, 128)     196736    \n",
      "_________________________________________________________________\n",
      "leaky_re_lu_3 (LeakyReLU)    (None, 1, 16, 7, 128)     0         \n",
      "_________________________________________________________________\n",
      "conv3d_4 (Conv3D)            (None, 1, 16, 1, 128)     114816    \n",
      "_________________________________________________________________\n",
      "leaky_re_lu_4 (LeakyReLU)    (None, 1, 16, 1, 128)     0         \n",
      "_________________________________________________________________\n",
      "conv3d_5 (Conv3D)            (None, 1, 8, 1, 128)      32896     \n",
      "_________________________________________________________________\n",
      "leaky_re_lu_5 (LeakyReLU)    (None, 1, 8, 1, 128)      0         \n",
      "_________________________________________________________________\n",
      "conv3d_6 (Conv3D)            (None, 1, 4, 1, 128)      32896     \n",
      "_________________________________________________________________\n",
      "leaky_re_lu_6 (LeakyReLU)    (None, 1, 4, 1, 128)      0         \n",
      "_________________________________________________________________\n",
      "conv3d_7 (Conv3D)            (None, 1, 2, 1, 256)      131328    \n",
      "_________________________________________________________________\n",
      "leaky_re_lu_7 (LeakyReLU)    (None, 1, 2, 1, 256)      0         \n",
      "_________________________________________________________________\n",
      "conv3d_8 (Conv3D)            (None, 1, 1, 1, 512)      393728    \n",
      "_________________________________________________________________\n",
      "leaky_re_lu_8 (LeakyReLU)    (None, 1, 1, 1, 512)      0         \n",
      "_________________________________________________________________\n",
      "flatten_1 (Flatten)          (None, 512)               0         \n",
      "_________________________________________________________________\n",
      "dense_1 (Dense)              (None, 1024)              525312    \n",
      "_________________________________________________________________\n",
      "leaky_re_lu_9 (LeakyReLU)    (None, 1024)              0         \n",
      "_________________________________________________________________\n",
      "dense_2 (Dense)              (None, 1)                 1025      \n",
      "=================================================================\n",
      "Total params: 1,446,401\n",
      "Trainable params: 1,446,401\n",
      "Non-trainable params: 0\n",
      "_________________________________________________________________\n"
     ]
    }
   ],
   "source": [
    "gan_model.critic.summary()"
   ]
  },
  {
   "cell_type": "markdown",
   "metadata": {},
   "source": [
    "# Sample score"
   ]
  },
  {
   "cell_type": "code",
   "execution_count": 8,
   "metadata": {},
   "outputs": [],
   "source": [
    "chords_noise = np.random.normal(0, 1, (1, gan_model.z_dim))\n",
    "style_noise = np.random.normal(0, 1, (1, gan_model.z_dim))\n",
    "melody_noise = np.random.normal(0, 1, (1, gan_model.n_tracks, gan_model.z_dim))\n",
    "groove_noise = np.random.normal(0, 1, (1, gan_model.n_tracks, gan_model.z_dim))"
   ]
  },
  {
   "cell_type": "code",
   "execution_count": 9,
   "metadata": {},
   "outputs": [],
   "source": [
    "gen_scores = gan_model.generator.predict([chords_noise, style_noise, melody_noise, groove_noise])"
   ]
  },
  {
   "cell_type": "code",
   "execution_count": 10,
   "metadata": {},
   "outputs": [
    {
     "data": {
      "text/plain": [
       "array([55, 65, 56, 76], dtype=int64)"
      ]
     },
     "execution_count": 10,
     "metadata": {},
     "output_type": "execute_result"
    }
   ],
   "source": [
    "\n",
    "np.argmax(gen_scores[0,0,0:4,:,3], axis = 1)"
   ]
  },
  {
   "cell_type": "code",
   "execution_count": 11,
   "metadata": {},
   "outputs": [],
   "source": [
    "gen_scores[0,0,0:4,60,3] = 0.02347812"
   ]
  },
  {
   "cell_type": "code",
   "execution_count": 12,
   "metadata": {},
   "outputs": [],
   "source": [
    "filename = 'example'\n",
    "gan_model.notes_to_midi(folder_in, gen_scores, filename)\n",
    "gen_score = converter.parse(os.path.join(folder_in, 'data_storage/{}.midi'.format(filename)))\n",
    "\n",
    "#Check the data_storage folder for the sample audio file."
   ]
  },
  {
   "cell_type": "markdown",
   "metadata": {},
   "source": [
    "# Closest match"
   ]
  },
  {
   "cell_type": "code",
   "execution_count": 13,
   "metadata": {},
   "outputs": [],
   "source": [
    "def find_closest(binary_data, score):\n",
    "    current_dist = 99999999\n",
    "    current_i = -1\n",
    "    for i, d in enumerate(binary_data):\n",
    "        dist = np.sqrt(np.sum(pow((d - score),2)))\n",
    "        if dist < current_dist:\n",
    "            current_i = i\n",
    "            current_dist = dist\n",
    "        \n",
    "    return current_i\n",
    "    "
   ]
  },
  {
   "cell_type": "code",
   "execution_count": 14,
   "metadata": {},
   "outputs": [
    {
     "name": "stdout",
     "output_type": "stream",
     "text": [
      "113\n"
     ]
    }
   ],
   "source": [
    "closest_idx = find_closest(binary_data, gen_scores[0])\n",
    "closest_data = binary_data[[closest_idx]]\n",
    "print(closest_idx)"
   ]
  },
  {
   "cell_type": "code",
   "execution_count": 15,
   "metadata": {},
   "outputs": [
    {
     "name": "stdout",
     "output_type": "stream",
     "text": [
      "closest\n"
     ]
    }
   ],
   "source": [
    "filename = 'closest'\n",
    "gan_model.notes_to_midi(folder_in, closest_data,filename)\n",
    "closest_score = converter.parse(os.path.join(folder_in, 'data_storage/{}.midi'.format(filename)))\n",
    "\n",
    "print('closest')\n",
    "\n",
    "#Check the data_storage folder for the closest matched audio file."
   ]
  },
  {
   "cell_type": "markdown",
   "metadata": {},
   "source": [
    "# change in chords noise"
   ]
  },
  {
   "cell_type": "code",
   "execution_count": 16,
   "metadata": {},
   "outputs": [],
   "source": [
    "chords_noise_2 = 5 * np.ones((1, gan_model.z_dim))"
   ]
  },
  {
   "cell_type": "code",
   "execution_count": 17,
   "metadata": {},
   "outputs": [],
   "source": [
    "chords_scores = gan_model.generator.predict([chords_noise_2, style_noise, melody_noise, groove_noise])"
   ]
  },
  {
   "cell_type": "code",
   "execution_count": 18,
   "metadata": {},
   "outputs": [
    {
     "name": "stdout",
     "output_type": "stream",
     "text": [
      "original\n",
      "chords noise changed\n"
     ]
    }
   ],
   "source": [
    "filename = 'changing_chords'\n",
    "gan_model.notes_to_midi(folder_in, chords_scores, filename)\n",
    "chords_score = converter.parse(os.path.join(folder_in, 'data_storage/{}.midi'.format(filename)))\n",
    "print('original')\n",
    "\n",
    "print('chords noise changed')\n",
    "#Check the data_storage folder for the changing_chords audio file."
   ]
  },
  {
   "cell_type": "markdown",
   "metadata": {},
   "source": [
    "# change in style noise"
   ]
  },
  {
   "cell_type": "code",
   "execution_count": 19,
   "metadata": {},
   "outputs": [],
   "source": [
    "style_noise_2 = 5 * np.ones((1, gan_model.z_dim))"
   ]
  },
  {
   "cell_type": "code",
   "execution_count": 20,
   "metadata": {},
   "outputs": [],
   "source": [
    "style_scores = gan_model.generator.predict([chords_noise, style_noise_2, melody_noise, groove_noise])"
   ]
  },
  {
   "cell_type": "code",
   "execution_count": 21,
   "metadata": {},
   "outputs": [
    {
     "name": "stdout",
     "output_type": "stream",
     "text": [
      "original\n",
      "style noise changed\n"
     ]
    }
   ],
   "source": [
    "filename = 'changing_style'\n",
    "gan_model.notes_to_midi(folder_in, style_scores, filename)\n",
    "style_score = converter.parse(os.path.join(folder_in, 'data_storage/{}.midi'.format(filename)))\n",
    "print('original')\n",
    "\n",
    "print('style noise changed')\n",
    "\n",
    "#Check the data_storage folder for the changing_chords audio file."
   ]
  },
  {
   "cell_type": "markdown",
   "metadata": {},
   "source": [
    "# changing the melody noise"
   ]
  },
  {
   "cell_type": "code",
   "execution_count": 22,
   "metadata": {},
   "outputs": [],
   "source": [
    "melody_noise_2 = np.copy(melody_noise)\n",
    "melody_noise_2[0,0,:] = 5 * np.ones(gan_model.z_dim) "
   ]
  },
  {
   "cell_type": "code",
   "execution_count": 23,
   "metadata": {},
   "outputs": [],
   "source": [
    "melody_scores = gan_model.generator.predict([chords_noise, style_noise, melody_noise_2, groove_noise])"
   ]
  },
  {
   "cell_type": "code",
   "execution_count": 24,
   "metadata": {},
   "outputs": [
    {
     "name": "stdout",
     "output_type": "stream",
     "text": [
      "melody noise changed\n"
     ]
    }
   ],
   "source": [
    "filename = 'changing_melody'\n",
    "gan_model.notes_to_midi(folder_in, melody_scores, filename)\n",
    "melody_score = converter.parse(os.path.join(folder_in, 'data_storage/{}.midi'.format(filename)))\n",
    "\n",
    "print('melody noise changed')\n",
    "#Check the data_storage folder for the changing_melody audio file."
   ]
  },
  {
   "cell_type": "markdown",
   "metadata": {},
   "source": [
    "# change in groove noise"
   ]
  },
  {
   "cell_type": "code",
   "execution_count": 25,
   "metadata": {},
   "outputs": [],
   "source": [
    "groove_noise_2 = np.copy(groove_noise)\n",
    "groove_noise_2[0,3,:] = 5 * np.ones(gan_model.z_dim)"
   ]
  },
  {
   "cell_type": "code",
   "execution_count": 26,
   "metadata": {},
   "outputs": [],
   "source": [
    "groove_scores = gan_model.generator.predict([chords_noise, style_noise, melody_noise, groove_noise_2])"
   ]
  },
  {
   "cell_type": "code",
   "execution_count": 27,
   "metadata": {},
   "outputs": [
    {
     "name": "stdout",
     "output_type": "stream",
     "text": [
      "groove noise changed\n"
     ]
    }
   ],
   "source": [
    "filename = 'changing_groove'\n",
    "gan_model.notes_to_midi(folder_in, groove_scores, filename)\n",
    "groove_score = converter.parse(os.path.join(folder_in, 'data_storage/{}.midi'.format(filename)))\n",
    "\n",
    "print('groove noise changed')\n",
    "#Check the data_storage folder for the changing_groove audio file."
   ]
  },
  {
   "cell_type": "code",
   "execution_count": null,
   "metadata": {},
   "outputs": [],
   "source": []
  },
  {
   "cell_type": "code",
   "execution_count": null,
   "metadata": {},
   "outputs": [],
   "source": []
  },
  {
   "cell_type": "code",
   "execution_count": null,
   "metadata": {},
   "outputs": [],
   "source": []
  }
 ],
 "metadata": {
  "kernelspec": {
   "display_name": "generative",
   "language": "python",
   "name": "generative"
  },
  "language_info": {
   "codemirror_mode": {
    "name": "ipython",
    "version": 3
   },
   "file_extension": ".py",
   "mimetype": "text/x-python",
   "name": "python",
   "nbconvert_exporter": "python",
   "pygments_lexer": "ipython3",
   "version": "3.6.13"
  }
 },
 "nbformat": 4,
 "nbformat_minor": 2
}
