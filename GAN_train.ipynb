{
 "cells": [
  {
   "cell_type": "markdown",
   "metadata": {},
   "source": [
    "# GAN Model -Training"
   ]
  },
  {
   "cell_type": "markdown",
   "metadata": {},
   "source": [
    "## Libraries"
   ]
  },
  {
   "cell_type": "code",
   "execution_count": 1,
   "metadata": {},
   "outputs": [
    {
     "name": "stderr",
     "output_type": "stream",
     "text": [
      "Using TensorFlow backend.\n"
     ]
    }
   ],
   "source": [
    "import os\n",
    "import matplotlib.pyplot as plt\n",
    "import numpy as np\n",
    "import types\n",
    "\n",
    "from models.MuseGAN import MuseGAN\n",
    "from utils.loaders import load_music\n",
    "\n",
    "from music21 import midi\n",
    "from music21 import note, stream, duration\n",
    "\n"
   ]
  },
  {
   "cell_type": "markdown",
   "metadata": {},
   "source": [
    "## Parameters initialization"
   ]
  },
  {
   "cell_type": "code",
   "execution_count": 2,
   "metadata": {},
   "outputs": [],
   "source": [
    "\n",
    "parent_folder = 'New_Music'    #Set up the data folders\n",
    "run_num = '0001'\n",
    "track_name1 = 'chorales'\n",
    "file_name = 'Jsb16thSeparated.npz'\n",
    "folder_in = 'run/{}/'.format(parent_folder)\n",
    "folder_in += '_'.join([run_num, track_name1])\n",
    "\n",
    "\n",
    "\n",
    "if not os.path.exists(folder_in):\n",
    "    os.mkdir(folder_in)\n",
    "    os.mkdir(os.path.join(folder_in, 'vizualizations'))\n",
    "    os.mkdir(os.path.join(folder_in, 'images'))\n",
    "    os.mkdir(os.path.join(folder_in, 'weights_record'))\n",
    "    os.mkdir(os.path.join(folder_in, 'data_storage'))\n",
    "\n",
    "mode =  'load' \n",
    "batch_in = 64\n",
    "bars_num = 2\n",
    "time_steps_per_bar = 16\n",
    "n_notes = 84\n",
    "num_of_tracks = 4\n",
    "\n",
    "binary_data, data_code, raw = load_music(track_name1, file_name, bars_num, time_steps_per_bar)\n",
    "binary_data = np.squeeze(binary_data)"
   ]
  },
  {
   "cell_type": "markdown",
   "metadata": {},
   "source": [
    "## Architecture of the model"
   ]
  },
  {
   "cell_type": "code",
   "execution_count": 3,
   "metadata": {},
   "outputs": [
    {
     "name": "stderr",
     "output_type": "stream",
     "text": [
      "WARNING: Logging before flag parsing goes to stderr.\n",
      "W0505 18:44:31.115425  4876 deprecation_wrapper.py:119] From C:\\Users\\Arjun\\anaconda3\\envs\\generative\\lib\\site-packages\\keras\\backend\\tensorflow_backend.py:517: The name tf.placeholder is deprecated. Please use tf.compat.v1.placeholder instead.\n",
      "\n",
      "W0505 18:44:31.131421  4876 deprecation_wrapper.py:119] From C:\\Users\\Arjun\\anaconda3\\envs\\generative\\lib\\site-packages\\keras\\backend\\tensorflow_backend.py:74: The name tf.get_default_graph is deprecated. Please use tf.compat.v1.get_default_graph instead.\n",
      "\n",
      "W0505 18:44:31.132424  4876 deprecation_wrapper.py:119] From C:\\Users\\Arjun\\anaconda3\\envs\\generative\\lib\\site-packages\\keras\\backend\\tensorflow_backend.py:4115: The name tf.random_normal is deprecated. Please use tf.random.normal instead.\n",
      "\n",
      "W0505 18:44:31.315423  4876 deprecation_wrapper.py:119] From C:\\Users\\Arjun\\anaconda3\\envs\\generative\\lib\\site-packages\\keras\\backend\\tensorflow_backend.py:174: The name tf.get_default_session is deprecated. Please use tf.compat.v1.get_default_session instead.\n",
      "\n",
      "W0505 18:44:31.316429  4876 deprecation_wrapper.py:119] From C:\\Users\\Arjun\\anaconda3\\envs\\generative\\lib\\site-packages\\keras\\backend\\tensorflow_backend.py:181: The name tf.ConfigProto is deprecated. Please use tf.compat.v1.ConfigProto instead.\n",
      "\n",
      "W0505 18:44:31.402388  4876 deprecation_wrapper.py:119] From C:\\Users\\Arjun\\anaconda3\\envs\\generative\\lib\\site-packages\\keras\\backend\\tensorflow_backend.py:1834: The name tf.nn.fused_batch_norm is deprecated. Please use tf.compat.v1.nn.fused_batch_norm instead.\n",
      "\n",
      "W0505 18:44:41.052650  4876 deprecation_wrapper.py:119] From C:\\Users\\Arjun\\anaconda3\\envs\\generative\\lib\\site-packages\\keras\\optimizers.py:790: The name tf.train.Optimizer is deprecated. Please use tf.compat.v1.train.Optimizer instead.\n",
      "\n"
     ]
    }
   ],
   "source": [
    "gan_model = MuseGAN(input_dim = binary_data.shape[1:]\n",
    "        , critic_learning_rate = 0.001\n",
    "        , generator_learning_rate = 0.001\n",
    "        , optimiser = 'adam'\n",
    "        , grad_weight = 10\n",
    "        , z_dim = 32\n",
    "        , batch_size = batch_in\n",
    "        , n_tracks = num_of_tracks\n",
    "        , n_bars = bars_num\n",
    "        , n_steps_per_bar = time_steps_per_bar\n",
    "        , n_pitches = n_notes\n",
    "        )\n",
    "\n",
    "if mode == 'load':\n",
    "    gan_model.save(folder_in)\n",
    "else:                 \n",
    "    gan_model.load_weights(folder_in)"
   ]
  },
  {
   "cell_type": "code",
   "execution_count": 4,
   "metadata": {},
   "outputs": [
    {
     "name": "stdout",
     "output_type": "stream",
     "text": [
      "_________________________________________________________________\n",
      "Layer (type)                 Output Shape              Param #   \n",
      "=================================================================\n",
      "temporal_input (InputLayer)  (None, 32)                0         \n",
      "_________________________________________________________________\n",
      "reshape_1 (Reshape)          (None, 1, 1, 32)          0         \n",
      "_________________________________________________________________\n",
      "conv2d_transpose_1 (Conv2DTr (None, 2, 1, 1024)        66560     \n",
      "_________________________________________________________________\n",
      "batch_normalization_1 (Batch (None, 2, 1, 1024)        4096      \n",
      "_________________________________________________________________\n",
      "activation_1 (Activation)    (None, 2, 1, 1024)        0         \n",
      "_________________________________________________________________\n",
      "conv2d_transpose_2 (Conv2DTr (None, 2, 1, 32)          32800     \n",
      "_________________________________________________________________\n",
      "batch_normalization_2 (Batch (None, 2, 1, 32)          128       \n",
      "_________________________________________________________________\n",
      "activation_2 (Activation)    (None, 2, 1, 32)          0         \n",
      "_________________________________________________________________\n",
      "reshape_2 (Reshape)          (None, 2, 32)             0         \n",
      "=================================================================\n",
      "Total params: 103,584\n",
      "Trainable params: 101,472\n",
      "Non-trainable params: 2,112\n",
      "_________________________________________________________________\n"
     ]
    }
   ],
   "source": [
    "gan_model.chords_tempNetwork.summary()"
   ]
  },
  {
   "cell_type": "code",
   "execution_count": 5,
   "metadata": {},
   "outputs": [
    {
     "name": "stdout",
     "output_type": "stream",
     "text": [
      "_________________________________________________________________\n",
      "Layer (type)                 Output Shape              Param #   \n",
      "=================================================================\n",
      "bar_generator_input (InputLa (None, 128)               0         \n",
      "_________________________________________________________________\n",
      "dense_3 (Dense)              (None, 1024)              132096    \n",
      "_________________________________________________________________\n",
      "batch_normalization_11 (Batc (None, 1024)              4096      \n",
      "_________________________________________________________________\n",
      "activation_11 (Activation)   (None, 1024)              0         \n",
      "_________________________________________________________________\n",
      "reshape_11 (Reshape)         (None, 2, 1, 512)         0         \n",
      "_________________________________________________________________\n",
      "conv2d_transpose_11 (Conv2DT (None, 4, 1, 512)         524800    \n",
      "_________________________________________________________________\n",
      "batch_normalization_12 (Batc (None, 4, 1, 512)         2048      \n",
      "_________________________________________________________________\n",
      "activation_12 (Activation)   (None, 4, 1, 512)         0         \n",
      "_________________________________________________________________\n",
      "conv2d_transpose_12 (Conv2DT (None, 8, 1, 256)         262400    \n",
      "_________________________________________________________________\n",
      "batch_normalization_13 (Batc (None, 8, 1, 256)         1024      \n",
      "_________________________________________________________________\n",
      "activation_13 (Activation)   (None, 8, 1, 256)         0         \n",
      "_________________________________________________________________\n",
      "conv2d_transpose_13 (Conv2DT (None, 16, 1, 256)        131328    \n",
      "_________________________________________________________________\n",
      "batch_normalization_14 (Batc (None, 16, 1, 256)        1024      \n",
      "_________________________________________________________________\n",
      "activation_14 (Activation)   (None, 16, 1, 256)        0         \n",
      "_________________________________________________________________\n",
      "conv2d_transpose_14 (Conv2DT (None, 16, 7, 256)        459008    \n",
      "_________________________________________________________________\n",
      "batch_normalization_15 (Batc (None, 16, 7, 256)        1024      \n",
      "_________________________________________________________________\n",
      "activation_15 (Activation)   (None, 16, 7, 256)        0         \n",
      "_________________________________________________________________\n",
      "conv2d_transpose_15 (Conv2DT (None, 16, 84, 1)         3073      \n",
      "_________________________________________________________________\n",
      "reshape_12 (Reshape)         (None, 1, 16, 84, 1)      0         \n",
      "=================================================================\n",
      "Total params: 1,521,921\n",
      "Trainable params: 1,517,313\n",
      "Non-trainable params: 4,608\n",
      "_________________________________________________________________\n"
     ]
    }
   ],
   "source": [
    "gan_model.barGen[0].summary()"
   ]
  },
  {
   "cell_type": "code",
   "execution_count": 6,
   "metadata": {},
   "outputs": [
    {
     "name": "stdout",
     "output_type": "stream",
     "text": [
      "__________________________________________________________________________________________________\n",
      "Layer (type)                    Output Shape         Param #     Connected to                     \n",
      "==================================================================================================\n",
      "melody_input (InputLayer)       (None, 4, 32)        0                                            \n",
      "__________________________________________________________________________________________________\n",
      "chords_input (InputLayer)       (None, 32)           0                                            \n",
      "__________________________________________________________________________________________________\n",
      "lambda_1 (Lambda)               (None, 32)           0           melody_input[0][0]               \n",
      "__________________________________________________________________________________________________\n",
      "lambda_2 (Lambda)               (None, 32)           0           melody_input[0][0]               \n",
      "__________________________________________________________________________________________________\n",
      "lambda_3 (Lambda)               (None, 32)           0           melody_input[0][0]               \n",
      "__________________________________________________________________________________________________\n",
      "lambda_4 (Lambda)               (None, 32)           0           melody_input[0][0]               \n",
      "__________________________________________________________________________________________________\n",
      "temporal_network (Model)        (None, 2, 32)        103584      chords_input[0][0]               \n",
      "__________________________________________________________________________________________________\n",
      "model_3 (Model)                 (None, 2, 32)        103584      lambda_1[0][0]                   \n",
      "__________________________________________________________________________________________________\n",
      "groove_input (InputLayer)       (None, 4, 32)        0                                            \n",
      "__________________________________________________________________________________________________\n",
      "model_4 (Model)                 (None, 2, 32)        103584      lambda_2[0][0]                   \n",
      "__________________________________________________________________________________________________\n",
      "model_5 (Model)                 (None, 2, 32)        103584      lambda_3[0][0]                   \n",
      "__________________________________________________________________________________________________\n",
      "model_6 (Model)                 (None, 2, 32)        103584      lambda_4[0][0]                   \n",
      "__________________________________________________________________________________________________\n",
      "chords_input_bar_0 (Lambda)     (None, 32)           0           temporal_network[1][0]           \n",
      "__________________________________________________________________________________________________\n",
      "style_input (InputLayer)        (None, 32)           0                                            \n",
      "__________________________________________________________________________________________________\n",
      "lambda_5 (Lambda)               (None, 32)           0           model_3[1][0]                    \n",
      "__________________________________________________________________________________________________\n",
      "lambda_6 (Lambda)               (None, 32)           0           groove_input[0][0]               \n",
      "__________________________________________________________________________________________________\n",
      "lambda_7 (Lambda)               (None, 32)           0           model_4[1][0]                    \n",
      "__________________________________________________________________________________________________\n",
      "lambda_8 (Lambda)               (None, 32)           0           groove_input[0][0]               \n",
      "__________________________________________________________________________________________________\n",
      "lambda_9 (Lambda)               (None, 32)           0           model_5[1][0]                    \n",
      "__________________________________________________________________________________________________\n",
      "lambda_10 (Lambda)              (None, 32)           0           groove_input[0][0]               \n",
      "__________________________________________________________________________________________________\n",
      "lambda_11 (Lambda)              (None, 32)           0           model_6[1][0]                    \n",
      "__________________________________________________________________________________________________\n",
      "lambda_12 (Lambda)              (None, 32)           0           groove_input[0][0]               \n",
      "__________________________________________________________________________________________________\n",
      "chords_input_bar_1 (Lambda)     (None, 32)           0           temporal_network[1][0]           \n",
      "__________________________________________________________________________________________________\n",
      "lambda_13 (Lambda)              (None, 32)           0           model_3[1][0]                    \n",
      "__________________________________________________________________________________________________\n",
      "lambda_14 (Lambda)              (None, 32)           0           groove_input[0][0]               \n",
      "__________________________________________________________________________________________________\n",
      "lambda_15 (Lambda)              (None, 32)           0           model_4[1][0]                    \n",
      "__________________________________________________________________________________________________\n",
      "lambda_16 (Lambda)              (None, 32)           0           groove_input[0][0]               \n",
      "__________________________________________________________________________________________________\n",
      "lambda_17 (Lambda)              (None, 32)           0           model_5[1][0]                    \n",
      "__________________________________________________________________________________________________\n",
      "lambda_18 (Lambda)              (None, 32)           0           groove_input[0][0]               \n",
      "__________________________________________________________________________________________________\n",
      "lambda_19 (Lambda)              (None, 32)           0           model_6[1][0]                    \n",
      "__________________________________________________________________________________________________\n",
      "lambda_20 (Lambda)              (None, 32)           0           groove_input[0][0]               \n",
      "__________________________________________________________________________________________________\n",
      "total_input_bar_0_track_0 (Conc (None, 128)          0           chords_input_bar_0[0][0]         \n",
      "                                                                 style_input[0][0]                \n",
      "                                                                 lambda_5[0][0]                   \n",
      "                                                                 lambda_6[0][0]                   \n",
      "__________________________________________________________________________________________________\n",
      "total_input_bar_0_track_1 (Conc (None, 128)          0           chords_input_bar_0[0][0]         \n",
      "                                                                 style_input[0][0]                \n",
      "                                                                 lambda_7[0][0]                   \n",
      "                                                                 lambda_8[0][0]                   \n",
      "__________________________________________________________________________________________________\n",
      "total_input_bar_0_track_2 (Conc (None, 128)          0           chords_input_bar_0[0][0]         \n",
      "                                                                 style_input[0][0]                \n",
      "                                                                 lambda_9[0][0]                   \n",
      "                                                                 lambda_10[0][0]                  \n",
      "__________________________________________________________________________________________________\n",
      "total_input_bar_0_track_3 (Conc (None, 128)          0           chords_input_bar_0[0][0]         \n",
      "                                                                 style_input[0][0]                \n",
      "                                                                 lambda_11[0][0]                  \n",
      "                                                                 lambda_12[0][0]                  \n",
      "__________________________________________________________________________________________________\n",
      "total_input_bar_1_track_0 (Conc (None, 128)          0           chords_input_bar_1[0][0]         \n",
      "                                                                 style_input[0][0]                \n",
      "                                                                 lambda_13[0][0]                  \n",
      "                                                                 lambda_14[0][0]                  \n",
      "__________________________________________________________________________________________________\n",
      "total_input_bar_1_track_1 (Conc (None, 128)          0           chords_input_bar_1[0][0]         \n",
      "                                                                 style_input[0][0]                \n",
      "                                                                 lambda_15[0][0]                  \n",
      "                                                                 lambda_16[0][0]                  \n",
      "__________________________________________________________________________________________________\n",
      "total_input_bar_1_track_2 (Conc (None, 128)          0           chords_input_bar_1[0][0]         \n",
      "                                                                 style_input[0][0]                \n",
      "                                                                 lambda_17[0][0]                  \n",
      "                                                                 lambda_18[0][0]                  \n",
      "__________________________________________________________________________________________________\n",
      "total_input_bar_1_track_3 (Conc (None, 128)          0           chords_input_bar_1[0][0]         \n",
      "                                                                 style_input[0][0]                \n",
      "                                                                 lambda_19[0][0]                  \n",
      "                                                                 lambda_20[0][0]                  \n",
      "__________________________________________________________________________________________________\n",
      "model_7 (Model)                 (None, 1, 16, 84, 1) 1521921     total_input_bar_0_track_0[0][0]  \n",
      "                                                                 total_input_bar_1_track_0[0][0]  \n",
      "__________________________________________________________________________________________________\n",
      "model_8 (Model)                 (None, 1, 16, 84, 1) 1521921     total_input_bar_0_track_1[0][0]  \n",
      "                                                                 total_input_bar_1_track_1[0][0]  \n",
      "__________________________________________________________________________________________________\n",
      "model_9 (Model)                 (None, 1, 16, 84, 1) 1521921     total_input_bar_0_track_2[0][0]  \n",
      "                                                                 total_input_bar_1_track_2[0][0]  \n",
      "__________________________________________________________________________________________________\n",
      "model_10 (Model)                (None, 1, 16, 84, 1) 1521921     total_input_bar_0_track_3[0][0]  \n",
      "                                                                 total_input_bar_1_track_3[0][0]  \n",
      "__________________________________________________________________________________________________\n",
      "concatenate_1 (Concatenate)     (None, 1, 16, 84, 4) 0           model_7[1][0]                    \n",
      "                                                                 model_8[1][0]                    \n",
      "                                                                 model_9[1][0]                    \n",
      "                                                                 model_10[1][0]                   \n",
      "__________________________________________________________________________________________________\n",
      "concatenate_2 (Concatenate)     (None, 1, 16, 84, 4) 0           model_7[2][0]                    \n",
      "                                                                 model_8[2][0]                    \n",
      "                                                                 model_9[2][0]                    \n",
      "                                                                 model_10[2][0]                   \n",
      "__________________________________________________________________________________________________\n",
      "concat_bars (Concatenate)       (None, 2, 16, 84, 4) 0           concatenate_1[0][0]              \n",
      "                                                                 concatenate_2[0][0]              \n",
      "==================================================================================================\n",
      "Total params: 6,605,604\n",
      "Trainable params: 6,576,612\n",
      "Non-trainable params: 28,992\n",
      "__________________________________________________________________________________________________\n"
     ]
    }
   ],
   "source": [
    "gan_model.generator.summary()"
   ]
  },
  {
   "cell_type": "code",
   "execution_count": 7,
   "metadata": {
    "scrolled": false
   },
   "outputs": [
    {
     "name": "stdout",
     "output_type": "stream",
     "text": [
      "_________________________________________________________________\n",
      "Layer (type)                 Output Shape              Param #   \n",
      "=================================================================\n",
      "critic_input (InputLayer)    (None, 2, 16, 84, 4)      0         \n",
      "_________________________________________________________________\n",
      "conv3d_1 (Conv3D)            (None, 1, 16, 84, 128)    1152      \n",
      "_________________________________________________________________\n",
      "leaky_re_lu_1 (LeakyReLU)    (None, 1, 16, 84, 128)    0         \n",
      "_________________________________________________________________\n",
      "conv3d_2 (Conv3D)            (None, 1, 16, 84, 128)    16512     \n",
      "_________________________________________________________________\n",
      "leaky_re_lu_2 (LeakyReLU)    (None, 1, 16, 84, 128)    0         \n",
      "_________________________________________________________________\n",
      "conv3d_3 (Conv3D)            (None, 1, 16, 7, 128)     196736    \n",
      "_________________________________________________________________\n",
      "leaky_re_lu_3 (LeakyReLU)    (None, 1, 16, 7, 128)     0         \n",
      "_________________________________________________________________\n",
      "conv3d_4 (Conv3D)            (None, 1, 16, 1, 128)     114816    \n",
      "_________________________________________________________________\n",
      "leaky_re_lu_4 (LeakyReLU)    (None, 1, 16, 1, 128)     0         \n",
      "_________________________________________________________________\n",
      "conv3d_5 (Conv3D)            (None, 1, 8, 1, 128)      32896     \n",
      "_________________________________________________________________\n",
      "leaky_re_lu_5 (LeakyReLU)    (None, 1, 8, 1, 128)      0         \n",
      "_________________________________________________________________\n",
      "conv3d_6 (Conv3D)            (None, 1, 4, 1, 128)      32896     \n",
      "_________________________________________________________________\n",
      "leaky_re_lu_6 (LeakyReLU)    (None, 1, 4, 1, 128)      0         \n",
      "_________________________________________________________________\n",
      "conv3d_7 (Conv3D)            (None, 1, 2, 1, 256)      131328    \n",
      "_________________________________________________________________\n",
      "leaky_re_lu_7 (LeakyReLU)    (None, 1, 2, 1, 256)      0         \n",
      "_________________________________________________________________\n",
      "conv3d_8 (Conv3D)            (None, 1, 1, 1, 512)      393728    \n",
      "_________________________________________________________________\n",
      "leaky_re_lu_8 (LeakyReLU)    (None, 1, 1, 1, 512)      0         \n",
      "_________________________________________________________________\n",
      "flatten_1 (Flatten)          (None, 512)               0         \n",
      "_________________________________________________________________\n",
      "dense_1 (Dense)              (None, 1024)              525312    \n",
      "_________________________________________________________________\n",
      "leaky_re_lu_9 (LeakyReLU)    (None, 1024)              0         \n",
      "_________________________________________________________________\n",
      "dense_2 (Dense)              (None, 1)                 1025      \n",
      "=================================================================\n",
      "Total params: 1,446,401\n",
      "Trainable params: 1,446,401\n",
      "Non-trainable params: 0\n",
      "_________________________________________________________________\n"
     ]
    }
   ],
   "source": [
    "gan_model.critic.summary()"
   ]
  },
  {
   "cell_type": "markdown",
   "metadata": {},
   "source": [
    "## GAN train"
   ]
  },
  {
   "cell_type": "code",
   "execution_count": 8,
   "metadata": {},
   "outputs": [],
   "source": [
    "\n",
    "EPOCHS = 60\n",
    "PRINT_EVERY_N_BATCHES = 10\n",
    "\n",
    "gan_model.epoch = 0"
   ]
  },
  {
   "cell_type": "code",
   "execution_count": 9,
   "metadata": {
    "scrolled": true
   },
   "outputs": [
    {
     "name": "stderr",
     "output_type": "stream",
     "text": [
      "C:\\Users\\Arjun\\anaconda3\\envs\\generative\\lib\\site-packages\\keras\\engine\\training.py:490: UserWarning: Discrepancy between trainable weights and collected trainable weights, did you set `model.trainable` without calling `model.compile` after ?\n",
      "  'Discrepancy between trainable weights and collected trainable'\n",
      "W0505 18:44:46.123425  4876 deprecation.py:323] From C:\\Users\\Arjun\\anaconda3\\envs\\generative\\lib\\site-packages\\tensorflow\\python\\ops\\math_grad.py:1250: add_dispatch_support.<locals>.wrapper (from tensorflow.python.ops.array_ops) is deprecated and will be removed in a future version.\n",
      "Instructions for updating:\n",
      "Use tf.where in 2.0, which has the same broadcast rule as np.where\n",
      "C:\\Users\\Arjun\\anaconda3\\envs\\generative\\lib\\site-packages\\keras\\engine\\training.py:490: UserWarning: Discrepancy between trainable weights and collected trainable weights, did you set `model.trainable` without calling `model.compile` after ?\n",
      "  'Discrepancy between trainable weights and collected trainable'\n"
     ]
    },
    {
     "name": "stdout",
     "output_type": "stream",
     "text": [
      "0 (5, 1) [D loss: (9.3)(R -0.5, F -0.0, G 1.0)] [G loss: 0.1]\n"
     ]
    },
    {
     "name": "stderr",
     "output_type": "stream",
     "text": [
      "C:\\Users\\Arjun\\anaconda3\\envs\\generative\\lib\\site-packages\\keras\\engine\\training.py:490: UserWarning: Discrepancy between trainable weights and collected trainable weights, did you set `model.trainable` without calling `model.compile` after ?\n",
      "  'Discrepancy between trainable weights and collected trainable'\n"
     ]
    },
    {
     "name": "stdout",
     "output_type": "stream",
     "text": [
      "1 (5, 1) [D loss: (-190.4)(R -264.5, F 44.9, G 2.9)] [G loss: -29.5]\n",
      "2 (5, 1) [D loss: (-210.9)(R -592.0, F 161.7, G 21.9)] [G loss: -143.1]\n",
      "3 (5, 1) [D loss: (-162.3)(R -439.5, F 151.8, G 12.5)] [G loss: -127.1]\n",
      "4 (5, 1) [D loss: (-113.3)(R -205.8, F 20.8, G 7.2)] [G loss: 58.2]\n",
      "5 (5, 1) [D loss: (-72.8)(R -301.6, F 174.2, G 5.5)] [G loss: -180.2]\n",
      "6 (5, 1) [D loss: (-48.6)(R -104.6, F 36.9, G 1.9)] [G loss: 448.3]\n",
      "7 (5, 1) [D loss: (-26.1)(R -156.6, F 125.7, G 0.5)] [G loss: -191.8]\n",
      "8 (5, 1) [D loss: (-10.6)(R -155.2, F 144.0, G 0.1)] [G loss: -153.0]\n",
      "9 (5, 1) [D loss: (-2.4)(R -124.1, F 121.7, G 0.0)] [G loss: -122.3]\n",
      "10 (5, 1) [D loss: (3.6)(R -79.9, F 82.5, G 0.1)] [G loss: -82.9]\n",
      "11 (5, 1) [D loss: (3.6)(R -65.2, F 67.6, G 0.1)] [G loss: -68.1]\n",
      "12 (5, 1) [D loss: (4.8)(R -36.7, F 39.8, G 0.2)] [G loss: -37.1]\n",
      "13 (5, 1) [D loss: (7.3)(R -8.9, F 12.0, G 0.4)] [G loss: -9.9]\n",
      "14 (5, 1) [D loss: (4.5)(R 0.3, F 1.4, G 0.3)] [G loss: -0.1]\n",
      "15 (5, 1) [D loss: (1.0)(R 0.8, F 0.2, G 0.0)] [G loss: -0.2]\n",
      "16 (5, 1) [D loss: (-0.1)(R -0.1, F -0.0, G 0.0)] [G loss: -0.2]\n",
      "17 (5, 1) [D loss: (-3.0)(R -8.8, F 5.8, G 0.0)] [G loss: -10.9]\n",
      "18 (5, 1) [D loss: (-26.8)(R -68.1, F 38.4, G 0.3)] [G loss: -76.2]\n",
      "19 (5, 1) [D loss: (7.0)(R -3.2, F 2.8, G 0.7)] [G loss: -1.7]\n",
      "20 (5, 1) [D loss: (7.8)(R 0.7, F -0.4, G 0.7)] [G loss: 0.5]\n",
      "21 (5, 1) [D loss: (2.0)(R -0.9, F 0.7, G 0.2)] [G loss: -9.6]\n",
      "22 (5, 1) [D loss: (-6.1)(R -79.0, F 59.3, G 1.4)] [G loss: -26.7]\n",
      "23 (5, 1) [D loss: (-23.8)(R -55.8, F 23.2, G 0.9)] [G loss: -93.7]\n",
      "24 (5, 1) [D loss: (-31.1)(R 12.3, F -46.0, G 0.3)] [G loss: 475.4]\n",
      "25 (5, 1) [D loss: (4.8)(R 14.8, F -15.9, G 0.6)] [G loss: 10.5]\n",
      "26 (5, 1) [D loss: (-2.5)(R 3.8, F -7.4, G 0.1)] [G loss: 16.1]\n",
      "27 (5, 1) [D loss: (-8.9)(R 37.0, F -46.1, G 0.0)] [G loss: -171.6]\n",
      "28 (5, 1) [D loss: (-20.2)(R -322.1, F 297.0, G 0.5)] [G loss: -292.1]\n",
      "29 (5, 1) [D loss: (-20.5)(R -306.6, F 273.0, G 1.3)] [G loss: -248.3]\n",
      "30 (5, 1) [D loss: (-14.8)(R -374.7, F 353.2, G 0.7)] [G loss: -339.3]\n",
      "31 (5, 1) [D loss: (-9.4)(R -297.1, F 284.2, G 0.4)] [G loss: -274.9]\n",
      "32 (5, 1) [D loss: (-4.1)(R -169.4, F 164.9, G 0.0)] [G loss: -243.9]\n",
      "33 (5, 1) [D loss: (-15.7)(R -241.8, F 218.3, G 0.8)] [G loss: -168.2]\n",
      "34 (5, 1) [D loss: (-32.8)(R -161.6, F 122.9, G 0.6)] [G loss: -142.1]\n",
      "35 (5, 1) [D loss: (-24.1)(R -136.4, F 104.0, G 0.8)] [G loss: -127.2]\n",
      "36 (5, 1) [D loss: (-6.1)(R -81.4, F 74.4, G 0.1)] [G loss: -102.9]\n",
      "37 (5, 1) [D loss: (-9.3)(R -152.3, F 142.0, G 0.1)] [G loss: -166.0]\n",
      "38 (5, 1) [D loss: (-10.7)(R -204.5, F 192.9, G 0.1)] [G loss: -285.6]\n",
      "39 (5, 1) [D loss: (-13.4)(R -192.5, F 177.5, G 0.2)] [G loss: -250.8]\n",
      "40 (5, 1) [D loss: (0.5)(R -53.7, F 50.6, G 0.4)] [G loss: -73.3]\n",
      "41 (5, 1) [D loss: (-26.0)(R -148.4, F 116.5, G 0.6)] [G loss: -108.5]\n",
      "42 (5, 1) [D loss: (-33.3)(R -139.0, F 88.7, G 1.7)] [G loss: -109.7]\n",
      "43 (5, 1) [D loss: (-24.1)(R -173.2, F 139.8, G 0.9)] [G loss: -126.5]\n",
      "44 (5, 1) [D loss: (-15.7)(R -180.8, F 156.7, G 0.8)] [G loss: -139.0]\n",
      "45 (5, 1) [D loss: (-18.5)(R -265.7, F 234.4, G 1.3)] [G loss: -178.8]\n",
      "46 (5, 1) [D loss: (-32.0)(R -314.5, F 280.2, G 0.2)] [G loss: -428.6]\n",
      "47 (5, 1) [D loss: (-30.1)(R -412.5, F 374.9, G 0.7)] [G loss: -411.9]\n",
      "48 (5, 1) [D loss: (-24.2)(R -527.0, F 491.4, G 1.1)] [G loss: -452.6]\n",
      "49 (5, 1) [D loss: (-22.9)(R -220.4, F 189.8, G 0.8)] [G loss: -274.2]\n",
      "50 (5, 1) [D loss: (-8.2)(R 192.2, F -200.6, G 0.0)] [G loss: -454.7]\n",
      "51 (5, 1) [D loss: (-18.4)(R -258.9, F 219.4, G 2.1)] [G loss: -557.2]\n",
      "52 (5, 1) [D loss: (-24.4)(R -653.0, F 619.6, G 0.9)] [G loss: -569.4]\n",
      "53 (5, 1) [D loss: (-25.7)(R -564.3, F 532.6, G 0.6)] [G loss: -645.8]\n",
      "54 (5, 1) [D loss: (-24.3)(R -551.7, F 523.6, G 0.4)] [G loss: -628.6]\n",
      "55 (5, 1) [D loss: (-24.1)(R -652.0, F 620.2, G 0.8)] [G loss: -573.4]\n",
      "56 (5, 1) [D loss: (-27.5)(R -665.7, F 629.2, G 0.9)] [G loss: -630.6]\n",
      "57 (5, 1) [D loss: (-31.7)(R -543.0, F 500.3, G 1.1)] [G loss: -617.3]\n",
      "58 (5, 1) [D loss: (-32.3)(R -501.5, F 462.5, G 0.7)] [G loss: -518.2]\n",
      "59 (5, 1) [D loss: (-29.7)(R -632.0, F 592.1, G 1.0)] [G loss: -600.7]\n"
     ]
    }
   ],
   "source": [
    "gan_model.train(     \n",
    "    binary_data\n",
    "    , batch_size = batch_in\n",
    "    , epochs = EPOCHS\n",
    "    , run_folder = folder_in\n",
    "    , print_every_n_batches = PRINT_EVERY_N_BATCHES\n",
    ")"
   ]
  },
  {
   "cell_type": "markdown",
   "metadata": {},
   "source": [
    "#######"
   ]
  },
  {
   "cell_type": "code",
   "execution_count": 10,
   "metadata": {},
   "outputs": [
    {
     "data": {
      "image/png": "[encoded data removed]",
      "text/plain": [
       "<Figure size 432x288 with 1 Axes>"
      ]
     },
     "metadata": {
      "image/png": {
       "height": 271,
       "width": 409
      },
      "needs_background": "light"
     },
     "output_type": "display_data"
    }
   ],
   "source": [
    "fig = plt.figure()\n",
    "plt.plot([x[0] for x in gan_model.d_losses], color='black', linewidth=0.25)\n",
    "\n",
    "plt.plot([x[1] for x in gan_model.d_losses], color='green', linewidth=0.25)\n",
    "plt.plot([x[2] for x in gan_model.d_losses], color='red', linewidth=0.25)\n",
    "plt.plot(gan_model.g_losses, color='orange', linewidth=0.25)\n",
    "\n",
    "plt.xlabel('batch', fontsize=18)\n",
    "plt.ylabel('loss', fontsize=16)\n",
    "\n",
    "plt.xlim(0, len(gan_model.d_losses))\n",
    "# plt.ylim(0, 2)\n",
    "\n",
    "plt.show()\n"
   ]
  },
  {
   "cell_type": "code",
   "execution_count": null,
   "metadata": {},
   "outputs": [],
   "source": []
  },
  {
   "cell_type": "code",
   "execution_count": null,
   "metadata": {},
   "outputs": [],
   "source": []
  }
 ],
 "metadata": {
  "kernelspec": {
   "display_name": "generative",
   "language": "python",
   "name": "generative"
  },
  "language_info": {
   "codemirror_mode": {
    "name": "ipython",
    "version": 3
   },
   "file_extension": ".py",
   "mimetype": "text/x-python",
   "name": "python",
   "nbconvert_exporter": "python",
   "pygments_lexer": "ipython3",
   "version": "3.6.13"
  }
 },
 "nbformat": 4,
 "nbformat_minor": 2
}
