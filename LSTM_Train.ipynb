{
 "cells": [
  {
   "cell_type": "markdown",
   "metadata": {},
   "source": [
    "# LTSM Model Training"
   ]
  },
  {
   "cell_type": "code",
   "execution_count": 1,
   "metadata": {
    "scrolled": true
   },
   "outputs": [
    {
     "name": "stderr",
     "output_type": "stream",
     "text": [
      "Using TensorFlow backend.\n"
     ]
    }
   ],
   "source": [
    "import numpy\n",
    "from music21 import note, chord\n",
    "import pickle\n",
    "import os\n",
    "import numpy as np\n",
    "import glob\n",
    "from music21 import corpus, converter\n",
    "\n",
    "from keras.layers import LSTM, Flatten,Input, RepeatVector, Dropout,Permute, Dense, Activation, TimeDistributed, Embedding, Concatenate, Reshape\n",
    "from keras.layers import Multiply, Lambda, Softmax\n",
    "import keras.backend as K \n",
    "from keras.models import Model\n",
    "from keras.callbacks import ModelCheckpoint, EarlyStopping\n",
    "from keras.utils import plot_model\n",
    "from keras.optimizers import RMSprop\n",
    "from keras.utils import np_utils\n",
    "from models.LTSM import element_list, dicts, create_pitch_sequence, get_tracks, new_nn"
   ]
  },
  {
   "cell_type": "markdown",
   "metadata": {},
   "source": [
    "# Parameters Initialization"
   ]
  },
  {
   "cell_type": "code",
   "execution_count": 2,
   "metadata": {},
   "outputs": [],
   "source": [
    "parent_folder = 'New_Music'    #Set up the data folders\n",
    "run_num = '0001'\n",
    "track_name = 'Tracks'\n",
    "\n",
    "#folder_in = 'run/{}/'.format(parent_folder)\n",
    "folder_in = 'run/{}/'.format(parent_folder)+'_'.join(['0001', track_name])\n",
    "\n",
    "\n",
    "storage = os.path.join(folder_in, 'data_storage')\n",
    "training_data_folder = os.path.join('data', track_name)\n",
    "\n",
    "#Set up the folders to store the vizualizations,data,weights and the output\n",
    "if not os.path.exists(folder_in):\n",
    "    os.mkdir(folder_in)\n",
    "    os.mkdir(os.path.join(folder_in, 'vizualizations'))\n",
    "    os.mkdir(os.path.join(folder_in, 'data_storage'))\n",
    "    os.mkdir(os.path.join(folder_in, 'weights_record'))\n",
    "    os.mkdir(os.path.join(folder_in, 'output_tracks'))\n",
    "    \n",
    "\n",
    "mode = 'load' #If the mode== \"load\", then let the model starts to derive the notes\n",
    "\n",
    "sequence_length = 32   #The input data is divided into 32 pitches \n",
    "embedding_size = 100 \n",
    "recurr_neural_network_units = 256  #Recurrent Neural Networks\n",
    "attention_usage = True  #When the attention mechanism needed to be implemented."
   ]
  },
  {
   "cell_type": "code",
   "execution_count": null,
   "metadata": {},
   "outputs": [],
   "source": []
  },
  {
   "cell_type": "markdown",
   "metadata": {},
   "source": [
    "## Parse the musical tracks"
   ]
  },
  {
   "cell_type": "code",
   "execution_count": 3,
   "metadata": {},
   "outputs": [
    {
     "name": "stdout",
     "output_type": "stream",
     "text": [
      "<module 'music21.converter' from 'C:\\\\Users\\\\Arjun\\\\anaconda3\\\\envs\\\\generative\\\\lib\\\\site-packages\\\\music21\\\\converter\\\\__init__.py'>\n",
      "Total number of files: 7\n",
      "1 Parsing data\\Tracks\\BEAT1R-Copy1.mid\n",
      "2 Parsing data\\Tracks\\cs1-6gig-Copy1.mid\n",
      "3 Parsing data\\Tracks\\cs2-3cou-Copy1.mid\n",
      "4 Parsing data\\Tracks\\cs4-3cou-Copy1.mid\n",
      "5 Parsing data\\Tracks\\cs5-2all-Copy1.mid\n",
      "6 Parsing data\\Tracks\\cs6-2all-Copy1.mid\n",
      "7 Parsing data\\Tracks\\Sample input-Copy1.mid\n",
      "[<music21.chord.Chord B3>, <music21.chord.Chord G2 D3 B3>, <music21.chord.Chord G2 D3 B3>, <music21.chord.Chord G2 D3 B3>, <music21.chord.Chord B3>, <music21.chord.Chord A3>, <music21.chord.Chord G3>, <music21.chord.Chord F#3>, <music21.chord.Chord G3>, <music21.chord.Chord D3>, <music21.chord.Chord E3>, <music21.chord.Chord F#3>, <music21.chord.Chord G3>, <music21.chord.Chord A3>, <music21.chord.Chord B3>, <music21.chord.Chord C4>, <music21.chord.Chord D4>, <music21.chord.Chord B3>, <music21.chord.Chord G3>, <music21.chord.Chord F#3>, <music21.chord.Chord G3>, <music21.chord.Chord E3>, <music21.chord.Chord D3>, <music21.chord.Chord C3>, <music21.chord.Chord B2>, <music21.chord.Chord C3>, <music21.chord.Chord D3>, <music21.chord.Chord E3>, <music21.chord.Chord F#3>, <music21.chord.Chord G3>, <music21.chord.Chord A3>, <music21.chord.Chord B3>, <music21.chord.Chord C4>, <music21.chord.Chord A3>, <music21.chord.Chord G3>, <music21.chord.Chord F#3>, <music21.chord.Chord G3>, <music21.chord.Chord E3>, <music21.chord.Chord F#3>, <music21.chord.Chord G3>, <music21.chord.Chord A2>, <music21.chord.Chord D3>, <music21.chord.Chord F#3>, <music21.chord.Chord G3>, <music21.chord.Chord A3>, <music21.chord.Chord B3>, <music21.chord.Chord C4>, <music21.chord.Chord A3>, <music21.chord.Chord B3>, <music21.chord.Chord G3>, <music21.chord.Chord G3>, <music21.chord.Chord D3>, <music21.chord.Chord D3>, <music21.chord.Chord B2>, <music21.chord.Chord B2>, <music21.chord.Chord G2>, <music21.chord.Chord G2>, <music21.chord.Chord B3>, <music21.chord.Chord C4>, <music21.chord.Chord B3>, <music21.chord.Chord A3>, <music21.chord.Chord G3>, <music21.chord.Chord A3>, <music21.chord.Chord B3>, <music21.chord.Chord C4>, <music21.chord.Chord A3>, <music21.chord.Chord G3>, <music21.chord.Chord F#3>, <music21.chord.Chord G3>, <music21.chord.Chord A3>, <music21.chord.Chord E-3>, <music21.chord.Chord C4>, <music21.chord.Chord B3>, <music21.chord.Chord A3>, <music21.chord.Chord G3>, <music21.chord.Chord F#3>, <music21.chord.Chord G3>, <music21.chord.Chord E3>, <music21.chord.Chord E3>, <music21.chord.Chord B2>, <music21.chord.Chord B2>, <music21.chord.Chord G2>, <music21.chord.Chord G2>, <music21.chord.Chord E2>, <music21.chord.Chord E2>, <music21.chord.Chord B2>, <music21.chord.Chord E3>, <music21.chord.Chord G3>, <music21.chord.Chord F#3>, <music21.chord.Chord A3>, <music21.chord.Chord G3>, <music21.chord.Chord F#3>, <music21.chord.Chord E3>, <music21.chord.Chord F#3>, <music21.chord.Chord G3>, <music21.chord.Chord C#4>, <music21.chord.Chord G3>, <music21.chord.Chord F#3>, <music21.chord.Chord G3>, <music21.chord.Chord C#4>, <music21.chord.Chord E3>, <music21.chord.Chord F#3>, <music21.chord.Chord G3>, <music21.chord.Chord E3>, <music21.chord.Chord A2>, <music21.chord.Chord G3>, <music21.chord.Chord F#3>, <music21.chord.Chord D3>, <music21.chord.Chord E3>, <music21.chord.Chord F#3>, <music21.chord.Chord D3>, <music21.chord.Chord G3>, <music21.chord.Chord E3>, <music21.chord.Chord F#3>, <music21.chord.Chord D3>, <music21.chord.Chord F#3>, <music21.chord.Chord G3>, <music21.chord.Chord A3>, <music21.chord.Chord B3>, <music21.chord.Chord C4>, <music21.chord.Chord A3>, <music21.chord.Chord B3>, <music21.chord.Chord D3>, <music21.chord.Chord G2>, <music21.chord.Chord D3>, <music21.chord.Chord B3>, <music21.chord.Chord G3>, <music21.chord.Chord A3>, <music21.chord.Chord F#3>, <music21.chord.Chord G3>, <music21.chord.Chord E3>, <music21.chord.Chord G3>, <music21.chord.Chord A3>, <music21.chord.Chord B3>, <music21.chord.Chord C#4>, <music21.chord.Chord D4>, <music21.chord.Chord B3>, <music21.chord.Chord C#4>, <music21.chord.Chord E3>, <music21.chord.Chord G2>, <music21.chord.Chord E3>, <music21.chord.Chord C#4>, <music21.chord.Chord A3>, <music21.chord.Chord B3>, <music21.chord.Chord D4>, <music21.chord.Chord C#4>, <music21.chord.Chord A3>, <music21.chord.Chord D4>, <music21.chord.Chord B3>, <music21.chord.Chord C#4>, <music21.chord.Chord A3>, <music21.chord.Chord E4>, <music21.chord.Chord G3>, <music21.chord.Chord F#3>, <music21.chord.Chord D4>, <music21.chord.Chord A3>, <music21.chord.Chord G3>, <music21.chord.Chord F#3>, <music21.chord.Chord E3>, <music21.chord.Chord D3>, <music21.chord.Chord A3>, <music21.chord.Chord G3>, <music21.chord.Chord E3>, <music21.chord.Chord F#3>, <music21.chord.Chord D3>, <music21.chord.Chord A3>, <music21.chord.Chord C3>, <music21.chord.Chord B2>, <music21.chord.Chord G3>, <music21.chord.Chord D3>, <music21.chord.Chord C3>, <music21.chord.Chord B2>, <music21.chord.Chord A2>, <music21.chord.Chord G2>, <music21.chord.Chord D3>, <music21.chord.Chord C3>, <music21.chord.Chord A2>, <music21.chord.Chord B2>, <music21.chord.Chord G2>, <music21.chord.Chord D3>, <music21.chord.Chord F#2>, <music21.chord.Chord E2>, <music21.chord.Chord G2>, <music21.chord.Chord A2>, <music21.chord.Chord B2>, <music21.chord.Chord C#3>, <music21.chord.Chord D3>, <music21.chord.Chord E3>, <music21.chord.Chord F#3>, <music21.chord.Chord G3>, <music21.chord.Chord A3>, <music21.chord.Chord C#4>, <music21.chord.Chord D4>, <music21.chord.Chord E4>, <music21.chord.Chord A3>, <music21.chord.Chord G4>, <music21.chord.Chord D3>, <music21.chord.Chord G4>, <music21.chord.Chord F#4>, <music21.chord.Chord E4>, <music21.chord.Chord F#4>, <music21.chord.Chord D4>, <music21.chord.Chord A3>, <music21.chord.Chord D4>, <music21.chord.Chord D3>, <music21.chord.Chord F#3>, <music21.chord.Chord A3>, <music21.chord.Chord C4>, <music21.chord.Chord B3>, <music21.chord.Chord A3>, <music21.chord.Chord G2 D3 B3>, <music21.chord.Chord G2 D3 B3>, <music21.chord.Chord G2 D3 B3>, <music21.chord.Chord A3>, <music21.chord.Chord G3>, <music21.chord.Chord F#3>, <music21.chord.Chord E3>, <music21.chord.Chord D4>, <music21.chord.Chord C#4>, <music21.chord.Chord E4>, <music21.chord.Chord A3>, <music21.chord.Chord G3>, <music21.chord.Chord F#3>, <music21.chord.Chord D3>, <music21.chord.Chord A2>, <music21.chord.Chord C#3>, <music21.chord.Chord D2>, <music21.chord.Chord A2>, <music21.chord.Chord D3>, <music21.chord.Chord F#3>, <music21.chord.Chord A3>, <music21.chord.Chord C#4>, <music21.chord.Chord D4>, <music21.chord.Chord A3>, <music21.chord.Chord F#3>, <music21.chord.Chord D3>, <music21.chord.Chord D2>, <music21.chord.Chord B3>, <music21.chord.Chord G2 D3 B3>, <music21.chord.Chord G2 D3 B3>, <music21.chord.Chord G2 D3 B3>, <music21.chord.Chord B3>, <music21.chord.Chord A3>, <music21.chord.Chord G3>, <music21.chord.Chord F#3>, <music21.chord.Chord G3>, <music21.chord.Chord D3>, <music21.chord.Chord E3>, <music21.chord.Chord F#3>, <music21.chord.Chord G3>, <music21.chord.Chord A3>, <music21.chord.Chord B3>, <music21.chord.Chord C4>, <music21.chord.Chord D4>, <music21.chord.Chord B3>, <music21.chord.Chord G3>, <music21.chord.Chord F#3>, <music21.chord.Chord G3>, <music21.chord.Chord E3>, <music21.chord.Chord D3>, <music21.chord.Chord C3>, <music21.chord.Chord B2>, <music21.chord.Chord C3>, <music21.chord.Chord D3>, <music21.chord.Chord E3>, <music21.chord.Chord F#3>, <music21.chord.Chord G3>, <music21.chord.Chord A3>, <music21.chord.Chord B3>, <music21.chord.Chord C4>, <music21.chord.Chord A3>, <music21.chord.Chord G3>, <music21.chord.Chord F#3>, <music21.chord.Chord G3>, <music21.chord.Chord E3>, <music21.chord.Chord F#3>, <music21.chord.Chord G3>, <music21.chord.Chord A2>, <music21.chord.Chord D3>, <music21.chord.Chord F#3>, <music21.chord.Chord G3>, <music21.chord.Chord A3>, <music21.chord.Chord B3>, <music21.chord.Chord C4>, <music21.chord.Chord A3>, <music21.chord.Chord B3>, <music21.chord.Chord G3>, <music21.chord.Chord G3>, <music21.chord.Chord D3>, <music21.chord.Chord D3>, <music21.chord.Chord B2>, <music21.chord.Chord B2>, <music21.chord.Chord G2>, <music21.chord.Chord G2>, <music21.chord.Chord B3>, <music21.chord.Chord C4>, <music21.chord.Chord B3>, <music21.chord.Chord A3>, <music21.chord.Chord G3>, <music21.chord.Chord A3>, <music21.chord.Chord B3>, <music21.chord.Chord C4>, <music21.chord.Chord A3>, <music21.chord.Chord G3>, <music21.chord.Chord F#3>, <music21.chord.Chord G3>, <music21.chord.Chord A3>, <music21.chord.Chord E-3>, <music21.chord.Chord C4>, <music21.chord.Chord B3>, <music21.chord.Chord A3>, <music21.chord.Chord G3>, <music21.chord.Chord F#3>, <music21.chord.Chord G3>, <music21.chord.Chord E3>, <music21.chord.Chord E3>, <music21.chord.Chord B2>, <music21.chord.Chord B2>, <music21.chord.Chord G2>, <music21.chord.Chord G2>, <music21.chord.Chord E2>, <music21.chord.Chord E2>, <music21.chord.Chord B2>, <music21.chord.Chord E3>, <music21.chord.Chord G3>, <music21.chord.Chord F#3>, <music21.chord.Chord A3>, <music21.chord.Chord G3>, <music21.chord.Chord F#3>, <music21.chord.Chord E3>, <music21.chord.Chord F#3>, <music21.chord.Chord G3>, <music21.chord.Chord C#4>, <music21.chord.Chord G3>, <music21.chord.Chord F#3>, <music21.chord.Chord G3>, <music21.chord.Chord C#4>, <music21.chord.Chord E3>, <music21.chord.Chord F#3>, <music21.chord.Chord G3>, <music21.chord.Chord E3>, <music21.chord.Chord A2>, <music21.chord.Chord G3>, <music21.chord.Chord F#3>, <music21.chord.Chord D3>, <music21.chord.Chord E3>, <music21.chord.Chord F#3>, <music21.chord.Chord D3>, <music21.chord.Chord G3>, <music21.chord.Chord E3>, <music21.chord.Chord F#3>, <music21.chord.Chord D3>, <music21.chord.Chord F#3>, <music21.chord.Chord G3>, <music21.chord.Chord A3>, <music21.chord.Chord B3>, <music21.chord.Chord C4>, <music21.chord.Chord A3>, <music21.chord.Chord B3>, <music21.chord.Chord D3>, <music21.chord.Chord G2>, <music21.chord.Chord D3>, <music21.chord.Chord B3>, <music21.chord.Chord G3>, <music21.chord.Chord A3>, <music21.chord.Chord F#3>, <music21.chord.Chord G3>, <music21.chord.Chord E3>, <music21.chord.Chord G3>, <music21.chord.Chord A3>, <music21.chord.Chord B3>, <music21.chord.Chord C#4>, <music21.chord.Chord D4>, <music21.chord.Chord B3>, <music21.chord.Chord C#4>, <music21.chord.Chord E3>, <music21.chord.Chord G2>, <music21.chord.Chord E3>, <music21.chord.Chord C#4>, <music21.chord.Chord A3>, <music21.chord.Chord B3>, <music21.chord.Chord D4>, <music21.chord.Chord C#4>, <music21.chord.Chord A3>, <music21.chord.Chord D4>, <music21.chord.Chord B3>, <music21.chord.Chord C#4>, <music21.chord.Chord A3>, <music21.chord.Chord E4>, <music21.chord.Chord G3>, <music21.chord.Chord F#3>, <music21.chord.Chord D4>, <music21.chord.Chord A3>, <music21.chord.Chord G3>, <music21.chord.Chord F#3>, <music21.chord.Chord E3>, <music21.chord.Chord D3>, <music21.chord.Chord A3>, <music21.chord.Chord G3>, <music21.chord.Chord E3>, <music21.chord.Chord F#3>, <music21.chord.Chord D3>, <music21.chord.Chord A3>, <music21.chord.Chord C3>, <music21.chord.Chord B2>, <music21.chord.Chord G3>, <music21.chord.Chord D3>, <music21.chord.Chord C3>, <music21.chord.Chord B2>, <music21.chord.Chord A2>, <music21.chord.Chord G2>, <music21.chord.Chord D3>, <music21.chord.Chord C3>, <music21.chord.Chord A2>, <music21.chord.Chord B2>, <music21.chord.Chord G2>, <music21.chord.Chord D3>, <music21.chord.Chord F#2>, <music21.chord.Chord E2>, <music21.chord.Chord G2>, <music21.chord.Chord A2>, <music21.chord.Chord B2>, <music21.chord.Chord C#3>, <music21.chord.Chord D3>, <music21.chord.Chord E3>, <music21.chord.Chord F#3>, <music21.chord.Chord G3>, <music21.chord.Chord A3>, <music21.chord.Chord C#4>, <music21.chord.Chord D4>, <music21.chord.Chord E4>, <music21.chord.Chord A3>, <music21.chord.Chord G4>, <music21.chord.Chord D3>, <music21.chord.Chord G4>, <music21.chord.Chord F#4>, <music21.chord.Chord E4>, <music21.chord.Chord F#4>, <music21.chord.Chord D4>, <music21.chord.Chord A3>, <music21.chord.Chord D4>, <music21.chord.Chord D3>, <music21.chord.Chord F#3>, <music21.chord.Chord A3>, <music21.chord.Chord C4>, <music21.chord.Chord B3>, <music21.chord.Chord A3>, <music21.chord.Chord G2 D3 B3>, <music21.chord.Chord G2 D3 B3>, <music21.chord.Chord G2 D3 B3>, <music21.chord.Chord A3>, <music21.chord.Chord G3>, <music21.chord.Chord F#3>, <music21.chord.Chord E3>, <music21.chord.Chord D4>, <music21.chord.Chord C#4>, <music21.chord.Chord E4>, <music21.chord.Chord A3>, <music21.chord.Chord G3>, <music21.chord.Chord F#3>, <music21.chord.Chord D3>, <music21.chord.Chord A2>, <music21.chord.Chord C#3>, <music21.chord.Chord D2>, <music21.chord.Chord A2>, <music21.chord.Chord D3>, <music21.chord.Chord F#3>, <music21.chord.Chord A3>, <music21.chord.Chord C#4>, <music21.chord.Chord D4>, <music21.chord.Chord A3>, <music21.chord.Chord F#3>, <music21.chord.Chord D3>, <music21.chord.Chord D2>, <music21.chord.Chord A3>, <music21.chord.Chord D3 A3>, <music21.chord.Chord D3 A3>, <music21.chord.Chord F#3>, <music21.chord.Chord G3>, <music21.chord.Chord A3>, <music21.chord.Chord D3>, <music21.chord.Chord E3>, <music21.chord.Chord F#3>, <music21.chord.Chord G3>, <music21.chord.Chord A3>, <music21.chord.Chord F#3>, <music21.chord.Chord D3>, <music21.chord.Chord C3>, <music21.chord.Chord B2>, <music21.chord.Chord D3>, <music21.chord.Chord G3>, <music21.chord.Chord F#3>, <music21.chord.Chord G3>, <music21.chord.Chord A3>, <music21.chord.Chord B3>, <music21.chord.Chord C4>, <music21.chord.Chord D4>, <music21.chord.Chord B3>, <music21.chord.Chord A3>, <music21.chord.Chord G3>, <music21.chord.Chord F3>, <music21.chord.Chord E3>, <music21.chord.Chord F3>, <music21.chord.Chord D4>, <music21.chord.Chord E3>, <music21.chord.Chord C3>, <music21.chord.Chord C4>, <music21.chord.Chord A2>, <music21.chord.Chord B2>, <music21.chord.Chord C3>, <music21.chord.Chord D2>, <music21.chord.Chord C4>, <music21.chord.Chord B3>, <music21.chord.Chord C4>, <music21.chord.Chord D4>, <music21.chord.Chord B3>, <music21.chord.Chord C4>, <music21.chord.Chord A3>, <music21.chord.Chord G#3>, <music21.chord.Chord E3>, <music21.chord.Chord B3>, <music21.chord.Chord D3>, <music21.chord.Chord C3>, <music21.chord.Chord B2>, <music21.chord.Chord C3>, <music21.chord.Chord E3>, <music21.chord.Chord F#3>, <music21.chord.Chord G#3>, <music21.chord.Chord A3>, <music21.chord.Chord C4>, <music21.chord.Chord B3>, <music21.chord.Chord A3>, <music21.chord.Chord D4>, <music21.chord.Chord B2>, <music21.chord.Chord C3>, <music21.chord.Chord D3>, <music21.chord.Chord E3>, <music21.chord.Chord F3>, <music21.chord.Chord A2>, <music21.chord.Chord G#2>, <music21.chord.Chord E3>, <music21.chord.Chord B3>, <music21.chord.Chord D4>, <music21.chord.Chord C4>, <music21.chord.Chord B3>, <music21.chord.Chord A2 E3 C4>, <music21.chord.Chord A2 E3 C4>, <music21.chord.Chord A2 E3 C4>, <music21.chord.Chord B3>, <music21.chord.Chord A3>, <music21.chord.Chord G3>, <music21.chord.Chord F3>, <music21.chord.Chord E3>, <music21.chord.Chord F3>, <music21.chord.Chord D3>, <music21.chord.Chord B-3>, <music21.chord.Chord A3>, <music21.chord.Chord B-3>, <music21.chord.Chord C4>, <music21.chord.Chord D4>, <music21.chord.Chord A3>, <music21.chord.Chord G#3>, <music21.chord.Chord A3>, <music21.chord.Chord B3>, <music21.chord.Chord E3>, <music21.chord.Chord F3>, <music21.chord.Chord D3>, <music21.chord.Chord C3>, <music21.chord.Chord B2>, <music21.chord.Chord C3>, <music21.chord.Chord E3>, <music21.chord.Chord A3>, <music21.chord.Chord B3>, <music21.chord.Chord E3 B3>, <music21.chord.Chord E3 B3>, <music21.chord.Chord E3 A3>, <music21.chord.Chord E3 A3>, <music21.chord.Chord A2 E3 A3>, <music21.chord.Chord A2 E3 A3>, <music21.chord.Chord A2 E3 A3>, <music21.chord.Chord B3>, <music21.chord.Chord C4>, <music21.chord.Chord B3>, <music21.chord.Chord C4>, <music21.chord.Chord G3>, <music21.chord.Chord F#3>, <music21.chord.Chord G3>, <music21.chord.Chord A3>, <music21.chord.Chord E3>, <music21.chord.Chord D3>, <music21.chord.Chord C3>, <music21.chord.Chord B2>, <music21.chord.Chord A2>, <music21.chord.Chord G2>, <music21.chord.Chord D3>, <music21.chord.Chord F#3>, <music21.chord.Chord C4>, <music21.chord.Chord B3>, <music21.chord.Chord A3>, <music21.chord.Chord G3>, <music21.chord.Chord A3>, <music21.chord.Chord B3>, <music21.chord.Chord C4>, <music21.chord.Chord D4>, <music21.chord.Chord E4>, <music21.chord.Chord D4>, <music21.chord.Chord E4>, <music21.chord.Chord F4>, <music21.chord.Chord D4>, <music21.chord.Chord E4>, <music21.chord.Chord G3>, <music21.chord.Chord C3>, <music21.chord.Chord D4>, <music21.chord.Chord C4>, <music21.chord.Chord B3>, <music21.chord.Chord A3>, <music21.chord.Chord B3>, <music21.chord.Chord C4>, <music21.chord.Chord E4>, <music21.chord.Chord D4>, <music21.chord.Chord C4>, <music21.chord.Chord D4>, <music21.chord.Chord A3>, <music21.chord.Chord B2>, <music21.chord.Chord C4>, <music21.chord.Chord B3>, <music21.chord.Chord A3>, <music21.chord.Chord G3>, <music21.chord.Chord F#3>, <music21.chord.Chord E3>, <music21.chord.Chord G3>, <music21.chord.Chord B3>, <music21.chord.Chord D4>, <music21.chord.Chord C4>, <music21.chord.Chord B3>, <music21.chord.Chord C4>, <music21.chord.Chord G3>, <music21.chord.Chord A2>, <music21.chord.Chord E3>, <music21.chord.Chord F#3>, <music21.chord.Chord G3>, <music21.chord.Chord F#3>, <music21.chord.Chord A3>, <music21.chord.Chord B3>, <music21.chord.Chord C4>, <music21.chord.Chord D3>, <music21.chord.Chord C3>, <music21.chord.Chord B2>, <music21.chord.Chord A2>, <music21.chord.Chord G2>, <music21.chord.Chord D3>, <music21.chord.Chord F#3>, <music21.chord.Chord A3>, <music21.chord.Chord C4>, <music21.chord.Chord A3>, <music21.chord.Chord F#3>, <music21.chord.Chord D3>, <music21.chord.Chord G2 D3 B3>, <music21.chord.Chord G2 D3 B3>, <music21.chord.Chord G2 D3 B3>, <music21.chord.Chord D3>, <music21.chord.Chord E3>, <music21.chord.Chord G3>, <music21.chord.Chord A3>, <music21.chord.Chord C#4>, <music21.chord.Chord D4>, <music21.chord.Chord A3>, <music21.chord.Chord F#3>, <music21.chord.Chord E3>, <music21.chord.Chord D3>, <music21.chord.Chord F3>, <music21.chord.Chord G3>, <music21.chord.Chord B3>, <music21.chord.Chord C4>, <music21.chord.Chord G3>, <music21.chord.Chord E3>, <music21.chord.Chord D3>, <music21.chord.Chord C3>, <music21.chord.Chord E3>, <music21.chord.Chord A3>, <music21.chord.Chord C4>, <music21.chord.Chord F#3>, <music21.chord.Chord A3>, <music21.chord.Chord C4>, <music21.chord.Chord E4>, <music21.chord.Chord D4>, <music21.chord.Chord C3>, <music21.chord.Chord B2>, <music21.chord.Chord G3>, <music21.chord.Chord A2>, <music21.chord.Chord G2>, <music21.chord.Chord D2>, <music21.chord.Chord A2>, <music21.chord.Chord G3>, <music21.chord.Chord F#3>, <music21.chord.Chord G3>, <music21.chord.Chord G2>, <music21.chord.Chord B2>, <music21.chord.Chord D3>, <music21.chord.Chord G3>, <music21.chord.Chord B3>, <music21.chord.Chord D4>, <music21.chord.Chord F#4>, <music21.chord.Chord G4>, <music21.chord.Chord D4>, <music21.chord.Chord B3>, <music21.chord.Chord G3>, <music21.chord.Chord G2>, <music21.chord.Chord A3>, <music21.chord.Chord D3 A3>, <music21.chord.Chord D3 A3>, <music21.chord.Chord F#3>, <music21.chord.Chord G3>, <music21.chord.Chord A3>, <music21.chord.Chord D3>, <music21.chord.Chord E3>, <music21.chord.Chord F#3>, <music21.chord.Chord G3>, <music21.chord.Chord A3>, <music21.chord.Chord F#3>, <music21.chord.Chord D3>, <music21.chord.Chord C3>, <music21.chord.Chord B2>, <music21.chord.Chord D3>, <music21.chord.Chord G3>, <music21.chord.Chord F#3>, <music21.chord.Chord G3>, <music21.chord.Chord A3>, <music21.chord.Chord B3>, <music21.chord.Chord C4>, <music21.chord.Chord D4>, <music21.chord.Chord B3>, <music21.chord.Chord A3>, <music21.chord.Chord G3>, <music21.chord.Chord F3>, <music21.chord.Chord E3>, <music21.chord.Chord F3>, <music21.chord.Chord D4>, <music21.chord.Chord E3>, <music21.chord.Chord C3>, <music21.chord.Chord C4>, <music21.chord.Chord A2>, <music21.chord.Chord B2>, <music21.chord.Chord C3>, <music21.chord.Chord D2>, <music21.chord.Chord C4>, <music21.chord.Chord B3>, <music21.chord.Chord C4>, <music21.chord.Chord D4>, <music21.chord.Chord B3>, <music21.chord.Chord C4>, <music21.chord.Chord A3>, <music21.chord.Chord G#3>, <music21.chord.Chord E3>, <music21.chord.Chord B3>, <music21.chord.Chord D3>, <music21.chord.Chord C3>, <music21.chord.Chord B2>, <music21.chord.Chord C3>, <music21.chord.Chord E3>, <music21.chord.Chord F#3>, <music21.chord.Chord G#3>, <music21.chord.Chord A3>, <music21.chord.Chord C4>, <music21.chord.Chord B3>, <music21.chord.Chord A3>, <music21.chord.Chord D4>, <music21.chord.Chord B2>, <music21.chord.Chord C3>, <music21.chord.Chord D3>, <music21.chord.Chord E3>, <music21.chord.Chord F3>, <music21.chord.Chord A2>, <music21.chord.Chord G#2>, <music21.chord.Chord E3>, <music21.chord.Chord B3>, <music21.chord.Chord D4>, <music21.chord.Chord C4>, <music21.chord.Chord B3>, <music21.chord.Chord A2 E3 C4>, <music21.chord.Chord A2 E3 C4>, <music21.chord.Chord A2 E3 C4>, <music21.chord.Chord B3>, <music21.chord.Chord A3>, <music21.chord.Chord G3>, <music21.chord.Chord F3>, <music21.chord.Chord E3>, <music21.chord.Chord F3>, <music21.chord.Chord D3>, <music21.chord.Chord B-3>, <music21.chord.Chord A3>, <music21.chord.Chord B-3>, <music21.chord.Chord C4>, <music21.chord.Chord D4>, <music21.chord.Chord A3>, <music21.chord.Chord G#3>, <music21.chord.Chord A3>, <music21.chord.Chord B3>, <music21.chord.Chord E3>, <music21.chord.Chord F3>, <music21.chord.Chord D3>, <music21.chord.Chord C3>, <music21.chord.Chord B2>, <music21.chord.Chord C3>, <music21.chord.Chord E3>, <music21.chord.Chord A3>, <music21.chord.Chord B3>, <music21.chord.Chord E3 B3>, <music21.chord.Chord E3 B3>, <music21.chord.Chord E3 A3>, <music21.chord.Chord E3 A3>, <music21.chord.Chord A2 E3 A3>, <music21.chord.Chord A2 E3 A3>, <music21.chord.Chord A2 E3 A3>, <music21.chord.Chord B3>, <music21.chord.Chord C4>, <music21.chord.Chord B3>, <music21.chord.Chord C4>, <music21.chord.Chord G3>, <music21.chord.Chord F#3>, <music21.chord.Chord G3>, <music21.chord.Chord A3>, <music21.chord.Chord E3>, <music21.chord.Chord D3>, <music21.chord.Chord C3>, <music21.chord.Chord B2>, <music21.chord.Chord A2>, <music21.chord.Chord G2>, <music21.chord.Chord D3>, <music21.chord.Chord F#3>, <music21.chord.Chord C4>, <music21.chord.Chord B3>, <music21.chord.Chord A3>, <music21.chord.Chord G3>, <music21.chord.Chord A3>, <music21.chord.Chord B3>, <music21.chord.Chord C4>, <music21.chord.Chord D4>, <music21.chord.Chord E4>, <music21.chord.Chord D4>, <music21.chord.Chord E4>, <music21.chord.Chord F4>, <music21.chord.Chord D4>, <music21.chord.Chord E4>, <music21.chord.Chord G3>, <music21.chord.Chord C3>, <music21.chord.Chord D4>, <music21.chord.Chord C4>, <music21.chord.Chord B3>, <music21.chord.Chord A3>, <music21.chord.Chord B3>, <music21.chord.Chord C4>, <music21.chord.Chord E4>, <music21.chord.Chord D4>, <music21.chord.Chord C4>, <music21.chord.Chord D4>, <music21.chord.Chord A3>, <music21.chord.Chord B2>, <music21.chord.Chord C4>, <music21.chord.Chord B3>, <music21.chord.Chord A3>, <music21.chord.Chord G3>, <music21.chord.Chord F#3>, <music21.chord.Chord E3>, <music21.chord.Chord G3>, <music21.chord.Chord B3>, <music21.chord.Chord D4>, <music21.chord.Chord C4>, <music21.chord.Chord B3>, <music21.chord.Chord C4>, <music21.chord.Chord G3>, <music21.chord.Chord A2>, <music21.chord.Chord E3>, <music21.chord.Chord F#3>, <music21.chord.Chord G3>, <music21.chord.Chord F#3>, <music21.chord.Chord A3>, <music21.chord.Chord B3>, <music21.chord.Chord C4>, <music21.chord.Chord D3>, <music21.chord.Chord C3>, <music21.chord.Chord B2>, <music21.chord.Chord A2>, <music21.chord.Chord G2>, <music21.chord.Chord D3>, <music21.chord.Chord F#3>, <music21.chord.Chord A3>, <music21.chord.Chord C4>, <music21.chord.Chord A3>, <music21.chord.Chord F#3>, <music21.chord.Chord D3>, <music21.chord.Chord G2 D3 B3>, <music21.chord.Chord G2 D3 B3>, <music21.chord.Chord G2 D3 B3>, <music21.chord.Chord D3>, <music21.chord.Chord E3>, <music21.chord.Chord G3>, <music21.chord.Chord A3>, <music21.chord.Chord C#4>, <music21.chord.Chord D4>, <music21.chord.Chord A3>, <music21.chord.Chord F#3>, <music21.chord.Chord E3>, <music21.chord.Chord D3>, <music21.chord.Chord F3>, <music21.chord.Chord G3>, <music21.chord.Chord B3>, <music21.chord.Chord C4>, <music21.chord.Chord G3>, <music21.chord.Chord E3>, <music21.chord.Chord D3>, <music21.chord.Chord C3>, <music21.chord.Chord E3>, <music21.chord.Chord A3>, <music21.chord.Chord C4>, <music21.chord.Chord F#3>, <music21.chord.Chord A3>, <music21.chord.Chord C4>, <music21.chord.Chord E4>, <music21.chord.Chord D4>, <music21.chord.Chord C3>, <music21.chord.Chord B2>, <music21.chord.Chord G3>, <music21.chord.Chord A2>, <music21.chord.Chord G2>, <music21.chord.Chord D2>, <music21.chord.Chord A2>, <music21.chord.Chord G3>, <music21.chord.Chord F#3>, <music21.chord.Chord G3>, <music21.chord.Chord G2>, <music21.chord.Chord B2>, <music21.chord.Chord D3>, <music21.chord.Chord G3>, <music21.chord.Chord B3>, <music21.chord.Chord D4>, <music21.chord.Chord F#4>, <music21.chord.Chord G4>, <music21.chord.Chord D4>, <music21.chord.Chord B3>, <music21.chord.Chord G3>, <music21.chord.Chord G2>]\n",
      "4929\n"
     ]
    }
   ],
   "source": [
    "if mode != 'load':              #When there is no new data to be loaded, work with the already existing pitches and time steps.\n",
    "    with open(os.path.join(storage, 'pitches'), 'rb') as fi:\n",
    "        pitches = pickle.load(fi)\n",
    "    with open(os.path.join(storage, 'time_steps'), 'rb') as fi:\n",
    "        time_steps = pickle.load(fi) \n",
    "    \n",
    "    \n",
    "else:\n",
    "   \n",
    "    \n",
    "    tracks = glob.glob(os.path.join(training_data_folder, \"*.mid\"))  #Extract the musical tracks from the training data folder and parse them,\n",
    "    parser=converter\n",
    "    print(parser)\n",
    "    print(\"Total number of files:\",len(tracks)) #Total number of musical tracks.\n",
    "\n",
    "    pitches = []\n",
    "    time_steps = []\n",
    "\n",
    "    for i, track in enumerate(tracks):    #Parse each track and then derive the pitches and timesteps from them.\n",
    "        print(i+1, \"Parsing %s\" % track)\n",
    "        first_score = parser.parse(track).chordify()\n",
    "        \n",
    "\n",
    "        for j in range(1):\n",
    "\n",
    "            score = first_score.transpose(j)\n",
    "\n",
    "            #pitches.extend(['START'] * sequence_length)\n",
    "            #time_steps.extend([0]* sequence_length)\n",
    "            total_pitch= len(['START'] *sequence_length)    #Collect all the pitches and the timesteps together under 2 variables.\n",
    "            for k in range(sequence_length):\n",
    "                pitches.append('START')\n",
    "                \n",
    "            total_time_steps=len( [0]* sequence_length)\n",
    "            for k in range(sequence_length):\n",
    "                time_steps.append(0)\n",
    "            \n",
    "            #Collect all the pitches along with their octave so that the unique arrangement of the pitches were even considered. \n",
    "            \n",
    "\n",
    "            for element in score.flat.notes:\n",
    "                \n",
    "                if isinstance(element, note.Note):\n",
    "                    (pitches.append(str(element.name)),time_steps.append(element.duration.quarterLength)) if element.isRest else (pitches.append(str(element.nameWithOctave)),time_steps.append(element.duration.quarterLength))\n",
    "                     #if element.isRest:\n",
    "                      #  pitches.append(str(element.name))\n",
    "                       # time_steps.append(element.duration.quarterLength)\n",
    "                     #else:\n",
    "                      #  pitches.append(str(element.nameWithOctave))\n",
    "                       # time_steps.append(element.duration.quarterLength)\n",
    "\n",
    "                if isinstance(element, chord.Chord):\n",
    "                    pitches.append('.'.join(n.nameWithOctave for n in element.pitches))\n",
    "                    time_steps.append(element.duration.quarterLength)\n",
    "\n",
    "    with open(os.path.join(storage, 'pitches'), 'wb') as f:\n",
    "        pickle.dump(pitches, f)\n",
    "    with open(os.path.join(storage, 'time_steps'), 'wb') as f:\n",
    "        pickle.dump(time_steps, f) \n",
    "    parent = []\n",
    "    child = []\n",
    "    for nt in score.flat.notes:        \n",
    "        if isinstance(nt, note.Note):\n",
    "            child.append(max(0.0, nt.pitch.ps))\n",
    "            parent.append(nt)\n",
    "        elif isinstance(nt, chord.Chord):\n",
    "            for pitch in nt.pitches:\n",
    "                child.append(max(0.0, pitch.ps))\n",
    "                parent.append(nt)\n",
    "    print(parent)\n",
    "    print(len(pitches))"
   ]
  },
  {
   "cell_type": "markdown",
   "metadata": {},
   "source": [
    "## Create files to store the unique picthes and time steps"
   ]
  },
  {
   "cell_type": "code",
   "execution_count": 4,
   "metadata": {},
   "outputs": [],
   "source": [
    "# Derive the unique sets of pitches and timesteps\n",
    "#pitch, pitch_num = element_list(pitches)\n",
    "#time_step, timestep_num = element_list(time_steps)\n",
    "pitch = sorted(set(pitches))\n",
    "time_step = sorted(set(time_steps))\n",
    "timestep_num = len(time_step)\n",
    "pitch_num = len(pitch)\n",
    "#pitch, pitch_num = element_list(pitches)\n",
    "#time_step, timestep_num = element_list(time_steps)\n",
    "diff_ones = [pitch, pitch_num, time_step, timestep_num]\n",
    "\n",
    "with open(os.path.join(storage, 'diff_ones'), 'wb') as f:    #Put the pitches, timesteps and their conversions to numerical in a single file \"diff_ones\".\n",
    "    pickle.dump(diff_ones, f)\n",
    "\n",
    "#create dictionaries for pitches and time steps\n",
    "timestep_numerical, numerical_timestep = dicts(time_step)\n",
    "pitch_numerical, numerical_pitch = dicts(pitch)\n",
    "all_combined = [pitch_numerical, numerical_pitch, timestep_numerical, numerical_timestep]\n",
    "\n",
    "with open(os.path.join(storage, 'all_combined'), 'wb') as f:\n",
    "    pickle.dump(all_combined, f)"
   ]
  },
  {
   "cell_type": "code",
   "execution_count": 5,
   "metadata": {},
   "outputs": [
    {
     "name": "stdout",
     "output_type": "stream",
     "text": [
      "\n",
      "Pitches: Num\n"
     ]
    },
    {
     "data": {
      "text/plain": [
       "233"
      ]
     },
     "execution_count": 5,
     "metadata": {},
     "output_type": "execute_result"
    }
   ],
   "source": [
    "print('\\nPitches: Num')  #Integer coding for pitches\n",
    "len(pitch_numerical)\n"
   ]
  },
  {
   "cell_type": "code",
   "execution_count": 6,
   "metadata": {},
   "outputs": [
    {
     "name": "stdout",
     "output_type": "stream",
     "text": [
      "\n",
      "Timesteps:Num\n"
     ]
    },
    {
     "data": {
      "text/plain": [
       "{0: 0,\n",
       " Fraction(1, 12): 1,\n",
       " Fraction(1, 6): 2,\n",
       " 0.25: 3,\n",
       " Fraction(1, 3): 4,\n",
       " Fraction(5, 12): 5,\n",
       " 0.5: 6,\n",
       " Fraction(7, 12): 7,\n",
       " Fraction(2, 3): 8,\n",
       " 0.75: 9,\n",
       " 1.0: 10,\n",
       " 1.25: 11,\n",
       " 1.5: 12,\n",
       " 2.0: 13}"
      ]
     },
     "execution_count": 6,
     "metadata": {},
     "output_type": "execute_result"
    }
   ],
   "source": [
    "print('\\nTimesteps:Num')   #Integer coding for time steps\n",
    "timestep_numerical"
   ]
  },
  {
   "cell_type": "markdown",
   "metadata": {},
   "source": [
    "## Pitch and timestep sequences "
   ]
  },
  {
   "cell_type": "code",
   "execution_count": 7,
   "metadata": {},
   "outputs": [],
   "source": [
    "\n",
    "pitch_numerical, numerical_pitch, timestep_numerical, numerical_timestep = all_combined  \n",
    "pitch, pitch_num, time_step, timestep_num = diff_ones\n",
    "pitch_input=[]\n",
    "pitch_output=[]\n",
    "timestep_input=[]\n",
    "timestep_output=[]\n",
    "dummy=1\n",
    "for i in range(len(pitches) - sequence_length):   #Divide the whole bundle into parts of 32 pitches and timesteps and then process.\n",
    "    \n",
    "    pitch_in_sequences = pitches[i:i + (sequence_length*dummy)]\n",
    "    pitch_out_sequences = pitches[i + (sequence_length*dummy)]\n",
    "       \n",
    "    pitch_input.append([pitch_numerical[char] for char in pitch_in_sequences])\n",
    "    pitch_output.append(pitch_numerical[pitch_out_sequences])\n",
    "  \n",
    "    timestep_in_sequence = time_steps[i:i + (sequence_length*dummy)]\n",
    "    timestep_out_sequence = time_steps[i + (sequence_length*dummy)]\n",
    "    \n",
    "    timestep_input.append([timestep_numerical[char] for char in timestep_in_sequence])\n",
    "    timestep_output.append(timestep_numerical[timestep_out_sequence])\n",
    "arrangement = len(pitch_input)  #The amount of variation needed in the sampling.\n",
    "\n",
    "pitch_input = np.reshape(pitch_input, (arrangement, sequence_length))\n",
    "pitch_output = np_utils.to_categorical(pitch_output, num_classes=pitch_num)\n",
    "\n",
    "timestep_input = np.reshape(timestep_input, (arrangement, sequence_length))\n",
    "timestep_output = np_utils.to_categorical(timestep_output, num_classes=timestep_num)\n",
    "\n",
    "ltsm_ip = [pitch_input, timestep_input]\n",
    "ltsm_op = [pitch_output, timestep_output]\n"
   ]
  },
  {
   "cell_type": "code",
   "execution_count": 8,
   "metadata": {},
   "outputs": [
    {
     "name": "stdout",
     "output_type": "stream",
     "text": [
      "pitch input [232 232 232 232 232 232 232 232 232 232 232 232 232 232 232 232 232 232\n",
      " 232 232 232 232 232 232 232 232 232 232 232 232 232 232]\n",
      "32\n",
      "duration input [0 0 0 0 0 0 0 0 0 0 0 0 0 0 0 0 0 0 0 0 0 0 0 0 0 0 0 0 0 0 0 0]\n",
      "pitch output [0. 0. 0. 0. 0. 0. 0. 0. 0. 0. 0. 0. 0. 0. 0. 0. 0. 0. 0. 0. 0. 0. 0. 0.\n",
      " 0. 0. 0. 0. 0. 0. 0. 0. 0. 0. 0. 0. 0. 0. 0. 0. 0. 0. 0. 0. 1. 0. 0. 0.\n",
      " 0. 0. 0. 0. 0. 0. 0. 0. 0. 0. 0. 0. 0. 0. 0. 0. 0. 0. 0. 0. 0. 0. 0. 0.\n",
      " 0. 0. 0. 0. 0. 0. 0. 0. 0. 0. 0. 0. 0. 0. 0. 0. 0. 0. 0. 0. 0. 0. 0. 0.\n",
      " 0. 0. 0. 0. 0. 0. 0. 0. 0. 0. 0. 0. 0. 0. 0. 0. 0. 0. 0. 0. 0. 0. 0. 0.\n",
      " 0. 0. 0. 0. 0. 0. 0. 0. 0. 0. 0. 0. 0. 0. 0. 0. 0. 0. 0. 0. 0. 0. 0. 0.\n",
      " 0. 0. 0. 0. 0. 0. 0. 0. 0. 0. 0. 0. 0. 0. 0. 0. 0. 0. 0. 0. 0. 0. 0. 0.\n",
      " 0. 0. 0. 0. 0. 0. 0. 0. 0. 0. 0. 0. 0. 0. 0. 0. 0. 0. 0. 0. 0. 0. 0. 0.\n",
      " 0. 0. 0. 0. 0. 0. 0. 0. 0. 0. 0. 0. 0. 0. 0. 0. 0. 0. 0. 0. 0. 0. 0. 0.\n",
      " 0. 0. 0. 0. 0. 0. 0. 0. 0. 0. 0. 0. 0. 0. 0. 0. 0.]\n",
      "duration output [0. 0. 0. 1. 0. 0. 0. 0. 0. 0. 0. 0. 0. 0.]\n"
     ]
    }
   ],
   "source": [
    "print('pitch input',ltsm_ip[0][0])\n",
    "print(len(ltsm_ip[0][0]))\n",
    "print('duration input',ltsm_ip[1][0])\n",
    "print('pitch output',ltsm_op[0][0])\n",
    "print('duration output',ltsm_op[1][0])\n"
   ]
  },
  {
   "cell_type": "markdown",
   "metadata": {},
   "source": [
    "## RNN with attention mechanism"
   ]
  },
  {
   "cell_type": "code",
   "execution_count": 9,
   "metadata": {},
   "outputs": [
    {
     "name": "stderr",
     "output_type": "stream",
     "text": [
      "WARNING: Logging before flag parsing goes to stderr.\n",
      "W0505 21:22:14.687928  2116 deprecation_wrapper.py:119] From C:\\Users\\Arjun\\anaconda3\\envs\\generative\\lib\\site-packages\\keras\\backend\\tensorflow_backend.py:74: The name tf.get_default_graph is deprecated. Please use tf.compat.v1.get_default_graph instead.\n",
      "\n",
      "W0505 21:22:14.700928  2116 deprecation_wrapper.py:119] From C:\\Users\\Arjun\\anaconda3\\envs\\generative\\lib\\site-packages\\keras\\backend\\tensorflow_backend.py:517: The name tf.placeholder is deprecated. Please use tf.compat.v1.placeholder instead.\n",
      "\n",
      "W0505 21:22:14.703964  2116 deprecation_wrapper.py:119] From C:\\Users\\Arjun\\anaconda3\\envs\\generative\\lib\\site-packages\\keras\\backend\\tensorflow_backend.py:4138: The name tf.random_uniform is deprecated. Please use tf.random.uniform instead.\n",
      "\n",
      "W0505 21:22:15.459161  2116 deprecation_wrapper.py:119] From C:\\Users\\Arjun\\anaconda3\\envs\\generative\\lib\\site-packages\\keras\\optimizers.py:790: The name tf.train.Optimizer is deprecated. Please use tf.compat.v1.train.Optimizer instead.\n",
      "\n",
      "W0505 21:22:15.465234  2116 deprecation_wrapper.py:119] From C:\\Users\\Arjun\\anaconda3\\envs\\generative\\lib\\site-packages\\keras\\backend\\tensorflow_backend.py:3295: The name tf.log is deprecated. Please use tf.math.log instead.\n",
      "\n"
     ]
    },
    {
     "name": "stdout",
     "output_type": "stream",
     "text": [
      "__________________________________________________________________________________________________\n",
      "Layer (type)                    Output Shape         Param #     Connected to                     \n",
      "==================================================================================================\n",
      "input_1 (InputLayer)            (None, None)         0                                            \n",
      "__________________________________________________________________________________________________\n",
      "input_2 (InputLayer)            (None, None)         0                                            \n",
      "__________________________________________________________________________________________________\n",
      "embedding_1 (Embedding)         (None, None, 100)    23300       input_1[0][0]                    \n",
      "__________________________________________________________________________________________________\n",
      "embedding_2 (Embedding)         (None, None, 100)    1400        input_2[0][0]                    \n",
      "__________________________________________________________________________________________________\n",
      "concatenate_1 (Concatenate)     (None, None, 200)    0           embedding_1[0][0]                \n",
      "                                                                 embedding_2[0][0]                \n",
      "__________________________________________________________________________________________________\n",
      "lstm_1 (LSTM)                   (None, None, 256)    467968      concatenate_1[0][0]              \n",
      "__________________________________________________________________________________________________\n",
      "lstm_2 (LSTM)                   (None, None, 256)    525312      lstm_1[0][0]                     \n",
      "__________________________________________________________________________________________________\n",
      "dense_1 (Dense)                 (None, None, 1)      257         lstm_2[0][0]                     \n",
      "__________________________________________________________________________________________________\n",
      "reshape_1 (Reshape)             (None, None)         0           dense_1[0][0]                    \n",
      "__________________________________________________________________________________________________\n",
      "activation_1 (Activation)       (None, None)         0           reshape_1[0][0]                  \n",
      "__________________________________________________________________________________________________\n",
      "repeat_vector_1 (RepeatVector)  (None, 256, None)    0           activation_1[0][0]               \n",
      "__________________________________________________________________________________________________\n",
      "permute_1 (Permute)             (None, None, 256)    0           repeat_vector_1[0][0]            \n",
      "__________________________________________________________________________________________________\n",
      "multiply_1 (Multiply)           (None, None, 256)    0           lstm_2[0][0]                     \n",
      "                                                                 permute_1[0][0]                  \n",
      "__________________________________________________________________________________________________\n",
      "lambda_1 (Lambda)               (None, 256)          0           multiply_1[0][0]                 \n",
      "__________________________________________________________________________________________________\n",
      "pitch (Dense)                   (None, 233)          59881       lambda_1[0][0]                   \n",
      "__________________________________________________________________________________________________\n",
      "duration (Dense)                (None, 14)           3598        lambda_1[0][0]                   \n",
      "==================================================================================================\n",
      "Total params: 1,081,716\n",
      "Trainable params: 1,081,716\n",
      "Non-trainable params: 0\n",
      "__________________________________________________________________________________________________\n"
     ]
    }
   ],
   "source": [
    "#model, model_with_attention = new_nn(pitch_num, timestep_num, embedding_size, recurr_neural_network_units, attention_usage)\n",
    "\n",
    "attention_usage=True\n",
    "pitch_in = Input(shape = (None,))   #Previoous pitch and timesteps sequence\n",
    "timestep_in = Input(shape = (None,))\n",
    "\n",
    "pitch_layer = Embedding(pitch_num, embedding_size)(pitch_in)    #Embedding layers to convert the values into vectors.\n",
    "time_step_layer = Embedding(timestep_num, embedding_size)(timestep_in) \n",
    "\n",
    "nn_layers = Concatenate()([pitch_layer,time_step_layer])  #Concantenating both the inputs\n",
    "\n",
    "nn_layers = LSTM(recurr_neural_network_units, return_sequences=True)(nn_layers)  #LSTM layers\n",
    "#nn_layers = Dropout(0.3)(nn_layers)\n",
    "\n",
    "if attention_usage==False:\n",
    "    final_layer = LSTM(recurr_neural_network_units)(nn_layers)\n",
    "\n",
    "    \n",
    "else:\n",
    "    \n",
    "    #final_layer = LSTM(recurr_neural_network_units)(nn_layers)\n",
    "    nn_layers = LSTM(recurr_neural_network_units, return_sequences=True)(nn_layers)\n",
    " \n",
    "    dense_layer = Dense(1, activation='tanh')(nn_layers)  #Dense layer with tanh activation function and 1 output unit.\n",
    "    dense_layer = Reshape([-1])(dense_layer)\n",
    "    act_func = Activation('softmax')(dense_layer)   #Weights are computed\n",
    "\n",
    "    act_func_2 = Permute([2, 1])(RepeatVector(recurr_neural_network_units)(act_func))  #Hidden states' Weighted sum computation\n",
    "\n",
    "    final_layer = Multiply()([nn_layers, act_func_2])\n",
    "    final_layer = Lambda(lambda unit: K.sum(unit, axis=1), output_shape=(recurr_neural_network_units,))(final_layer)\n",
    "    \n",
    "  \n",
    "                                    \n",
    "pitch_out = Dense(pitch_num, activation = 'softmax', name = 'pitch')(final_layer)  #Network's output\n",
    "timesteps_out = Dense(timestep_num, activation = 'softmax', name = 'duration')(final_layer)\n",
    "   \n",
    "model = Model([pitch_in, timestep_in], [pitch_out, timesteps_out])  #Inputs the previous pitches and time steps and outputs the next pitches and time steps\n",
    "    \n",
    "\n",
    "if attention_usage:\n",
    "    model_with_attention = Model([pitch_in, timestep_in], act_func)  #Model with the alpha as output\n",
    "else:\n",
    "    model_with_attention = None\n",
    "\n",
    "\n",
    "\n",
    "model.compile(loss=['categorical_crossentropy', 'categorical_crossentropy'], optimizer=RMSprop(lr = 0.001))\n",
    "\n",
    "plot_model(model, to_file=os.path.join(folder_in ,'vizualizations/model.png'), show_shapes = True, show_layer_names = True)\n",
    "model.summary()"
   ]
  },
  {
   "cell_type": "markdown",
   "metadata": {},
   "source": [
    "## Train the neural network"
   ]
  },
  {
   "cell_type": "code",
   "execution_count": 10,
   "metadata": {},
   "outputs": [],
   "source": [
    "weights_in = os.path.join(folder_in, 'weights_record')\n",
    "# model.load_weights(os.path.join(weights_folder, \"weights.h5\"))"
   ]
  },
  {
   "cell_type": "code",
   "execution_count": 11,
   "metadata": {},
   "outputs": [
    {
     "name": "stderr",
     "output_type": "stream",
     "text": [
      "W0505 21:22:15.925303  2116 deprecation_wrapper.py:119] From C:\\Users\\Arjun\\anaconda3\\envs\\generative\\lib\\site-packages\\keras\\backend\\tensorflow_backend.py:174: The name tf.get_default_session is deprecated. Please use tf.compat.v1.get_default_session instead.\n",
      "\n",
      "W0505 21:22:16.273303  2116 deprecation.py:323] From C:\\Users\\Arjun\\anaconda3\\envs\\generative\\lib\\site-packages\\tensorflow\\python\\ops\\math_grad.py:1250: add_dispatch_support.<locals>.wrapper (from tensorflow.python.ops.array_ops) is deprecated and will be removed in a future version.\n",
      "Instructions for updating:\n",
      "Use tf.where in 2.0, which has the same broadcast rule as np.where\n"
     ]
    },
    {
     "name": "stdout",
     "output_type": "stream",
     "text": [
      "Train on 3917 samples, validate on 980 samples\n",
      "Epoch 1/10\n",
      "3917/3917 [==============================] - 15s 4ms/step - loss: 5.1091 - pitch_loss: 3.8572 - duration_loss: 1.2519 - val_loss: 4.1177 - val_pitch_loss: 3.5685 - val_duration_loss: 0.5492\n",
      "Epoch 2/10\n",
      "3917/3917 [==============================] - 15s 4ms/step - loss: 4.5007 - pitch_loss: 3.4875 - duration_loss: 1.0132 - val_loss: 4.0851 - val_pitch_loss: 3.4902 - val_duration_loss: 0.5948\n",
      "Epoch 3/10\n",
      "3917/3917 [==============================] - 15s 4ms/step - loss: 4.2365 - pitch_loss: 3.3234 - duration_loss: 0.9131 - val_loss: 3.9443 - val_pitch_loss: 3.4115 - val_duration_loss: 0.5328\n",
      "Epoch 4/10\n",
      "3917/3917 [==============================] - 16s 4ms/step - loss: 4.0710 - pitch_loss: 3.2240 - duration_loss: 0.8470 - val_loss: 3.9731 - val_pitch_loss: 3.3085 - val_duration_loss: 0.6647\n",
      "Epoch 5/10\n",
      "3917/3917 [==============================] - 19s 5ms/step - loss: 3.9363 - pitch_loss: 3.1371 - duration_loss: 0.7991 - val_loss: 3.8841 - val_pitch_loss: 3.3307 - val_duration_loss: 0.5534\n",
      "Epoch 6/10\n",
      "3917/3917 [==============================] - 18s 5ms/step - loss: 3.8220 - pitch_loss: 3.0716 - duration_loss: 0.7503 - val_loss: 3.8823 - val_pitch_loss: 3.2663 - val_duration_loss: 0.6160\n",
      "Epoch 7/10\n",
      "3917/3917 [==============================] - 18s 5ms/step - loss: 3.7075 - pitch_loss: 2.9901 - duration_loss: 0.7174 - val_loss: 3.9252 - val_pitch_loss: 3.3292 - val_duration_loss: 0.5960\n",
      "Epoch 8/10\n",
      "3917/3917 [==============================] - 18s 5ms/step - loss: 3.5939 - pitch_loss: 2.9043 - duration_loss: 0.6896 - val_loss: 4.1531 - val_pitch_loss: 3.5236 - val_duration_loss: 0.6295\n",
      "Epoch 9/10\n",
      "3917/3917 [==============================] - 18s 5ms/step - loss: 3.5022 - pitch_loss: 2.8294 - duration_loss: 0.6728 - val_loss: 3.8742 - val_pitch_loss: 3.2955 - val_duration_loss: 0.5787\n",
      "Epoch 10/10\n",
      "3917/3917 [==============================] - 18s 5ms/step - loss: 3.3548 - pitch_loss: 2.7181 - duration_loss: 0.6366 - val_loss: 4.1827 - val_pitch_loss: 3.5567 - val_duration_loss: 0.6260\n"
     ]
    },
    {
     "data": {
      "text/plain": [
       "<keras.callbacks.History at 0x23159d0b748>"
      ]
     },
     "execution_count": 11,
     "metadata": {},
     "output_type": "execute_result"
    }
   ],
   "source": [
    "weights_in = os.path.join(folder_in, 'weights_record')  #Weights to be stored in this folder so that it can used during the modle prediction\n",
    "\n",
    "checkpoint1 = ModelCheckpoint(\n",
    "    os.path.join(weights_in, \"weights_record-improvement-{epoch:02d}-{loss:.4f}-bigger.h5\"),\n",
    "    monitor='loss',\n",
    "    verbose=0,\n",
    "    save_best_only=True,\n",
    "    mode='min'\n",
    ")\n",
    "\n",
    "\n",
    "checkpoint2 = ModelCheckpoint(\n",
    "    os.path.join(weights_in, \"weights_record.h5\"),\n",
    "    monitor='loss',\n",
    "    verbose=0,\n",
    "    save_best_only=True,\n",
    "    mode='min'\n",
    ")\n",
    "\n",
    "early_stopping = EarlyStopping(\n",
    "    monitor='loss'\n",
    "    , restore_best_weights=True\n",
    "    , patience = 10\n",
    ")\n",
    "\n",
    "\n",
    "callbacks_list = [\n",
    "    checkpoint1\n",
    "    , checkpoint2\n",
    "    , early_stopping\n",
    " ]\n",
    "\n",
    "model.save_weights(os.path.join(weights_in, \"weights_record.h5\"))\n",
    "model.fit(ltsm_ip, ltsm_op\n",
    "          , epochs=10, batch_size=32  #EPOCKS=20000\n",
    "          , validation_split = 0.2\n",
    "          , callbacks=callbacks_list\n",
    "          , shuffle=True\n",
    "         )\n"
   ]
  },
  {
   "cell_type": "code",
   "execution_count": null,
   "metadata": {},
   "outputs": [],
   "source": []
  },
  {
   "cell_type": "code",
   "execution_count": null,
   "metadata": {},
   "outputs": [],
   "source": []
  }
 ],
 "metadata": {
  "kernelspec": {
   "display_name": "generative",
   "language": "python",
   "name": "generative"
  },
  "language_info": {
   "codemirror_mode": {
    "name": "ipython",
    "version": 3
   },
   "file_extension": ".py",
   "mimetype": "text/x-python",
   "name": "python",
   "nbconvert_exporter": "python",
   "pygments_lexer": "ipython3",
   "version": "3.6.13"
  }
 },
 "nbformat": 4,
 "nbformat_minor": 2
}
